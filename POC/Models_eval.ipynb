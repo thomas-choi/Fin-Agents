{
 "cells": [
  {
   "cell_type": "code",
   "execution_count": 1,
   "id": "4e3e3c3e-6562-4e82-ba41-0181a4ee467e",
   "metadata": {},
   "outputs": [
    {
     "name": "stderr",
     "output_type": "stream",
     "text": [
      "2025-07-13 22:43:47.369592: E external/local_xla/xla/stream_executor/cuda/cuda_fft.cc:485] Unable to register cuFFT factory: Attempting to register factory for plugin cuFFT when one has already been registered\n",
      "2025-07-13 22:43:47.379723: E external/local_xla/xla/stream_executor/cuda/cuda_dnn.cc:8454] Unable to register cuDNN factory: Attempting to register factory for plugin cuDNN when one has already been registered\n",
      "2025-07-13 22:43:47.382563: E external/local_xla/xla/stream_executor/cuda/cuda_blas.cc:1452] Unable to register cuBLAS factory: Attempting to register factory for plugin cuBLAS when one has already been registered\n",
      "2025-07-13 22:43:47.391153: I tensorflow/core/platform/cpu_feature_guard.cc:210] This TensorFlow binary is optimized to use available CPU instructions in performance-critical operations.\n",
      "To enable the following instructions: AVX2 AVX_VNNI FMA, in other operations, rebuild TensorFlow with the appropriate compiler flags.\n",
      "2025-07-13 22:43:47.956293: W tensorflow/compiler/tf2tensorrt/utils/py_utils.cc:38] TF-TRT Warning: Could not find TensorRT\n"
     ]
    }
   ],
   "source": [
    "import MA4Star_Strategy as MA4\n",
    "import os\n",
    "import mplfinance as mpf\n",
    "import matplotlib.pyplot as plt"
   ]
  },
  {
   "cell_type": "code",
   "execution_count": 2,
   "id": "865719d1-cda7-45d0-bfe2-6072d47a78ee",
   "metadata": {},
   "outputs": [
    {
     "name": "stdout",
     "output_type": "stream",
     "text": [
      "^HSI_55_0.5_5_0\n"
     ]
    }
   ],
   "source": [
    "ticker = \"^HSI\"\n",
    "window_days = 55\n",
    "alpha = 0.5\n",
    "star_lbdays=0\n",
    "predict_days=5\n",
    "data_label = MA4.data_label(ticker, window_days, alpha, predict_days, star_lbdays)\n",
    "print(data_label)"
   ]
  },
  {
   "cell_type": "code",
   "execution_count": 3,
   "id": "d95a85f4-8360-421a-9da9-3899e2f7a4aa",
   "metadata": {
    "scrolled": true
   },
   "outputs": [
    {
     "name": "stdout",
     "output_type": "stream",
     "text": [
      "^HSI_55_0.5_5_0_CNN_30_32\n"
     ]
    },
    {
     "name": "stderr",
     "output_type": "stream",
     "text": [
      "WARNING: All log messages before absl::InitializeLog() is called are written to STDERR\n",
      "I0000 00:00:1752471829.012903   69266 cuda_executor.cc:1001] could not open file to read NUMA node: /sys/bus/pci/devices/0000:01:00.0/numa_node\n",
      "Your kernel may have been built without NUMA support.\n",
      "I0000 00:00:1752471829.048510   69266 cuda_executor.cc:1001] could not open file to read NUMA node: /sys/bus/pci/devices/0000:01:00.0/numa_node\n",
      "Your kernel may have been built without NUMA support.\n",
      "I0000 00:00:1752471829.048567   69266 cuda_executor.cc:1001] could not open file to read NUMA node: /sys/bus/pci/devices/0000:01:00.0/numa_node\n",
      "Your kernel may have been built without NUMA support.\n",
      "I0000 00:00:1752471829.050520   69266 cuda_executor.cc:1001] could not open file to read NUMA node: /sys/bus/pci/devices/0000:01:00.0/numa_node\n",
      "Your kernel may have been built without NUMA support.\n",
      "I0000 00:00:1752471829.050601   69266 cuda_executor.cc:1001] could not open file to read NUMA node: /sys/bus/pci/devices/0000:01:00.0/numa_node\n",
      "Your kernel may have been built without NUMA support.\n",
      "I0000 00:00:1752471829.050619   69266 cuda_executor.cc:1001] could not open file to read NUMA node: /sys/bus/pci/devices/0000:01:00.0/numa_node\n",
      "Your kernel may have been built without NUMA support.\n",
      "I0000 00:00:1752471829.146743   69266 cuda_executor.cc:1001] could not open file to read NUMA node: /sys/bus/pci/devices/0000:01:00.0/numa_node\n",
      "Your kernel may have been built without NUMA support.\n",
      "I0000 00:00:1752471829.146823   69266 cuda_executor.cc:1001] could not open file to read NUMA node: /sys/bus/pci/devices/0000:01:00.0/numa_node\n",
      "Your kernel may have been built without NUMA support.\n",
      "2025-07-13 22:43:49.146831: I tensorflow/core/common_runtime/gpu/gpu_device.cc:2112] Could not identify NUMA node of platform GPU id 0, defaulting to 0.  Your kernel may not have been built with NUMA support.\n",
      "I0000 00:00:1752471829.146870   69266 cuda_executor.cc:1001] could not open file to read NUMA node: /sys/bus/pci/devices/0000:01:00.0/numa_node\n",
      "Your kernel may have been built without NUMA support.\n",
      "2025-07-13 22:43:49.146889: I tensorflow/core/common_runtime/gpu/gpu_device.cc:2021] Created device /job:localhost/replica:0/task:0/device:GPU:0 with 5563 MB memory:  -> device: 0, name: NVIDIA GeForce RTX 4060 Laptop GPU, pci bus id: 0000:01:00.0, compute capability: 8.9\n"
     ]
    },
    {
     "name": "stdout",
     "output_type": "stream",
     "text": [
      "Model ^HSI_55_0.5_5_0_CNN_30_32 loaded successfully.\n"
     ]
    },
    {
     "data": {
      "text/html": [
       "<pre style=\"white-space:pre;overflow-x:auto;line-height:normal;font-family:Menlo,'DejaVu Sans Mono',consolas,'Courier New',monospace\"><span style=\"font-weight: bold\">Model: \"sequential\"</span>\n",
       "</pre>\n"
      ],
      "text/plain": [
       "\u001b[1mModel: \"sequential\"\u001b[0m\n"
      ]
     },
     "metadata": {},
     "output_type": "display_data"
    },
    {
     "data": {
      "text/html": [
       "<pre style=\"white-space:pre;overflow-x:auto;line-height:normal;font-family:Menlo,'DejaVu Sans Mono',consolas,'Courier New',monospace\">┏━━━━━━━━━━━━━━━━━━━━━━━━━━━━━━━━━┳━━━━━━━━━━━━━━━━━━━━━━━━┳━━━━━━━━━━━━━━━┓\n",
       "┃<span style=\"font-weight: bold\"> Layer (type)                    </span>┃<span style=\"font-weight: bold\"> Output Shape           </span>┃<span style=\"font-weight: bold\">       Param # </span>┃\n",
       "┡━━━━━━━━━━━━━━━━━━━━━━━━━━━━━━━━━╇━━━━━━━━━━━━━━━━━━━━━━━━╇━━━━━━━━━━━━━━━┩\n",
       "│ conv2d (<span style=\"color: #0087ff; text-decoration-color: #0087ff\">Conv2D</span>)                 │ (<span style=\"color: #00d7ff; text-decoration-color: #00d7ff\">None</span>, <span style=\"color: #00af00; text-decoration-color: #00af00\">222</span>, <span style=\"color: #00af00; text-decoration-color: #00af00\">222</span>, <span style=\"color: #00af00; text-decoration-color: #00af00\">32</span>)   │           <span style=\"color: #00af00; text-decoration-color: #00af00\">896</span> │\n",
       "├─────────────────────────────────┼────────────────────────┼───────────────┤\n",
       "│ max_pooling2d (<span style=\"color: #0087ff; text-decoration-color: #0087ff\">MaxPooling2D</span>)    │ (<span style=\"color: #00d7ff; text-decoration-color: #00d7ff\">None</span>, <span style=\"color: #00af00; text-decoration-color: #00af00\">111</span>, <span style=\"color: #00af00; text-decoration-color: #00af00\">111</span>, <span style=\"color: #00af00; text-decoration-color: #00af00\">32</span>)   │             <span style=\"color: #00af00; text-decoration-color: #00af00\">0</span> │\n",
       "├─────────────────────────────────┼────────────────────────┼───────────────┤\n",
       "│ conv2d_1 (<span style=\"color: #0087ff; text-decoration-color: #0087ff\">Conv2D</span>)               │ (<span style=\"color: #00d7ff; text-decoration-color: #00d7ff\">None</span>, <span style=\"color: #00af00; text-decoration-color: #00af00\">109</span>, <span style=\"color: #00af00; text-decoration-color: #00af00\">109</span>, <span style=\"color: #00af00; text-decoration-color: #00af00\">64</span>)   │        <span style=\"color: #00af00; text-decoration-color: #00af00\">18,496</span> │\n",
       "├─────────────────────────────────┼────────────────────────┼───────────────┤\n",
       "│ max_pooling2d_1 (<span style=\"color: #0087ff; text-decoration-color: #0087ff\">MaxPooling2D</span>)  │ (<span style=\"color: #00d7ff; text-decoration-color: #00d7ff\">None</span>, <span style=\"color: #00af00; text-decoration-color: #00af00\">54</span>, <span style=\"color: #00af00; text-decoration-color: #00af00\">54</span>, <span style=\"color: #00af00; text-decoration-color: #00af00\">64</span>)     │             <span style=\"color: #00af00; text-decoration-color: #00af00\">0</span> │\n",
       "├─────────────────────────────────┼────────────────────────┼───────────────┤\n",
       "│ flatten (<span style=\"color: #0087ff; text-decoration-color: #0087ff\">Flatten</span>)               │ (<span style=\"color: #00d7ff; text-decoration-color: #00d7ff\">None</span>, <span style=\"color: #00af00; text-decoration-color: #00af00\">186624</span>)         │             <span style=\"color: #00af00; text-decoration-color: #00af00\">0</span> │\n",
       "├─────────────────────────────────┼────────────────────────┼───────────────┤\n",
       "│ dense (<span style=\"color: #0087ff; text-decoration-color: #0087ff\">Dense</span>)                   │ (<span style=\"color: #00d7ff; text-decoration-color: #00d7ff\">None</span>, <span style=\"color: #00af00; text-decoration-color: #00af00\">128</span>)            │    <span style=\"color: #00af00; text-decoration-color: #00af00\">23,888,000</span> │\n",
       "├─────────────────────────────────┼────────────────────────┼───────────────┤\n",
       "│ dropout (<span style=\"color: #0087ff; text-decoration-color: #0087ff\">Dropout</span>)               │ (<span style=\"color: #00d7ff; text-decoration-color: #00d7ff\">None</span>, <span style=\"color: #00af00; text-decoration-color: #00af00\">128</span>)            │             <span style=\"color: #00af00; text-decoration-color: #00af00\">0</span> │\n",
       "├─────────────────────────────────┼────────────────────────┼───────────────┤\n",
       "│ dense_1 (<span style=\"color: #0087ff; text-decoration-color: #0087ff\">Dense</span>)                 │ (<span style=\"color: #00d7ff; text-decoration-color: #00d7ff\">None</span>, <span style=\"color: #00af00; text-decoration-color: #00af00\">3</span>)              │           <span style=\"color: #00af00; text-decoration-color: #00af00\">387</span> │\n",
       "└─────────────────────────────────┴────────────────────────┴───────────────┘\n",
       "</pre>\n"
      ],
      "text/plain": [
       "┏━━━━━━━━━━━━━━━━━━━━━━━━━━━━━━━━━┳━━━━━━━━━━━━━━━━━━━━━━━━┳━━━━━━━━━━━━━━━┓\n",
       "┃\u001b[1m \u001b[0m\u001b[1mLayer (type)                   \u001b[0m\u001b[1m \u001b[0m┃\u001b[1m \u001b[0m\u001b[1mOutput Shape          \u001b[0m\u001b[1m \u001b[0m┃\u001b[1m \u001b[0m\u001b[1m      Param #\u001b[0m\u001b[1m \u001b[0m┃\n",
       "┡━━━━━━━━━━━━━━━━━━━━━━━━━━━━━━━━━╇━━━━━━━━━━━━━━━━━━━━━━━━╇━━━━━━━━━━━━━━━┩\n",
       "│ conv2d (\u001b[38;5;33mConv2D\u001b[0m)                 │ (\u001b[38;5;45mNone\u001b[0m, \u001b[38;5;34m222\u001b[0m, \u001b[38;5;34m222\u001b[0m, \u001b[38;5;34m32\u001b[0m)   │           \u001b[38;5;34m896\u001b[0m │\n",
       "├─────────────────────────────────┼────────────────────────┼───────────────┤\n",
       "│ max_pooling2d (\u001b[38;5;33mMaxPooling2D\u001b[0m)    │ (\u001b[38;5;45mNone\u001b[0m, \u001b[38;5;34m111\u001b[0m, \u001b[38;5;34m111\u001b[0m, \u001b[38;5;34m32\u001b[0m)   │             \u001b[38;5;34m0\u001b[0m │\n",
       "├─────────────────────────────────┼────────────────────────┼───────────────┤\n",
       "│ conv2d_1 (\u001b[38;5;33mConv2D\u001b[0m)               │ (\u001b[38;5;45mNone\u001b[0m, \u001b[38;5;34m109\u001b[0m, \u001b[38;5;34m109\u001b[0m, \u001b[38;5;34m64\u001b[0m)   │        \u001b[38;5;34m18,496\u001b[0m │\n",
       "├─────────────────────────────────┼────────────────────────┼───────────────┤\n",
       "│ max_pooling2d_1 (\u001b[38;5;33mMaxPooling2D\u001b[0m)  │ (\u001b[38;5;45mNone\u001b[0m, \u001b[38;5;34m54\u001b[0m, \u001b[38;5;34m54\u001b[0m, \u001b[38;5;34m64\u001b[0m)     │             \u001b[38;5;34m0\u001b[0m │\n",
       "├─────────────────────────────────┼────────────────────────┼───────────────┤\n",
       "│ flatten (\u001b[38;5;33mFlatten\u001b[0m)               │ (\u001b[38;5;45mNone\u001b[0m, \u001b[38;5;34m186624\u001b[0m)         │             \u001b[38;5;34m0\u001b[0m │\n",
       "├─────────────────────────────────┼────────────────────────┼───────────────┤\n",
       "│ dense (\u001b[38;5;33mDense\u001b[0m)                   │ (\u001b[38;5;45mNone\u001b[0m, \u001b[38;5;34m128\u001b[0m)            │    \u001b[38;5;34m23,888,000\u001b[0m │\n",
       "├─────────────────────────────────┼────────────────────────┼───────────────┤\n",
       "│ dropout (\u001b[38;5;33mDropout\u001b[0m)               │ (\u001b[38;5;45mNone\u001b[0m, \u001b[38;5;34m128\u001b[0m)            │             \u001b[38;5;34m0\u001b[0m │\n",
       "├─────────────────────────────────┼────────────────────────┼───────────────┤\n",
       "│ dense_1 (\u001b[38;5;33mDense\u001b[0m)                 │ (\u001b[38;5;45mNone\u001b[0m, \u001b[38;5;34m3\u001b[0m)              │           \u001b[38;5;34m387\u001b[0m │\n",
       "└─────────────────────────────────┴────────────────────────┴───────────────┘\n"
      ]
     },
     "metadata": {},
     "output_type": "display_data"
    },
    {
     "data": {
      "text/html": [
       "<pre style=\"white-space:pre;overflow-x:auto;line-height:normal;font-family:Menlo,'DejaVu Sans Mono',consolas,'Courier New',monospace\"><span style=\"font-weight: bold\"> Total params: </span><span style=\"color: #00af00; text-decoration-color: #00af00\">71,723,339</span> (273.60 MB)\n",
       "</pre>\n"
      ],
      "text/plain": [
       "\u001b[1m Total params: \u001b[0m\u001b[38;5;34m71,723,339\u001b[0m (273.60 MB)\n"
      ]
     },
     "metadata": {},
     "output_type": "display_data"
    },
    {
     "data": {
      "text/html": [
       "<pre style=\"white-space:pre;overflow-x:auto;line-height:normal;font-family:Menlo,'DejaVu Sans Mono',consolas,'Courier New',monospace\"><span style=\"font-weight: bold\"> Trainable params: </span><span style=\"color: #00af00; text-decoration-color: #00af00\">23,907,779</span> (91.20 MB)\n",
       "</pre>\n"
      ],
      "text/plain": [
       "\u001b[1m Trainable params: \u001b[0m\u001b[38;5;34m23,907,779\u001b[0m (91.20 MB)\n"
      ]
     },
     "metadata": {},
     "output_type": "display_data"
    },
    {
     "data": {
      "text/html": [
       "<pre style=\"white-space:pre;overflow-x:auto;line-height:normal;font-family:Menlo,'DejaVu Sans Mono',consolas,'Courier New',monospace\"><span style=\"font-weight: bold\"> Non-trainable params: </span><span style=\"color: #00af00; text-decoration-color: #00af00\">0</span> (0.00 B)\n",
       "</pre>\n"
      ],
      "text/plain": [
       "\u001b[1m Non-trainable params: \u001b[0m\u001b[38;5;34m0\u001b[0m (0.00 B)\n"
      ]
     },
     "metadata": {},
     "output_type": "display_data"
    },
    {
     "data": {
      "text/html": [
       "<pre style=\"white-space:pre;overflow-x:auto;line-height:normal;font-family:Menlo,'DejaVu Sans Mono',consolas,'Courier New',monospace\"><span style=\"font-weight: bold\"> Optimizer params: </span><span style=\"color: #00af00; text-decoration-color: #00af00\">47,815,560</span> (182.40 MB)\n",
       "</pre>\n"
      ],
      "text/plain": [
       "\u001b[1m Optimizer params: \u001b[0m\u001b[38;5;34m47,815,560\u001b[0m (182.40 MB)\n"
      ]
     },
     "metadata": {},
     "output_type": "display_data"
    }
   ],
   "source": [
    "batch_size = 32\n",
    "epochs = 30\n",
    "model_name = \"CNN\"\n",
    "# model_name = \"Dense\"\n",
    "model_label = MA4.model_label(data_label, model_name, epochs, batch_size)\n",
    "print(model_label)\n",
    "model = MA4.retreive_model(model_label)\n",
    "if model is not None:\n",
    "    model.summary()"
   ]
  },
  {
   "cell_type": "code",
   "execution_count": 4,
   "id": "808749b7-daec-453c-acd1-b944b61fad39",
   "metadata": {},
   "outputs": [],
   "source": [
    "import yfinance as yf\n",
    "import pandas as pd\n",
    "import numpy as np\n",
    "from datetime import date, timedelta, datetime"
   ]
  },
  {
   "cell_type": "code",
   "execution_count": 5,
   "id": "c3955e32-5b6c-4eee-852c-b7e1ea25a713",
   "metadata": {},
   "outputs": [
    {
     "name": "stdout",
     "output_type": "stream",
     "text": [
      "2025-01-01  ,  2025-07-03\n"
     ]
    }
   ],
   "source": [
    "enddate = date(2025, 7, 3)\n",
    "enddate = \"2025-07-03\"\n",
    "startdate = date(2025, 1, 1)\n",
    "startdate = \"2025-01-01\"\n",
    "print(startdate, ' , ', enddate)"
   ]
  },
  {
   "cell_type": "code",
   "execution_count": 6,
   "id": "9ab2c255-8836-4cb2-9d3e-eb5d946284b2",
   "metadata": {
    "scrolled": true
   },
   "outputs": [
    {
     "name": "stdout",
     "output_type": "stream",
     "text": [
      "download_setup_data ^HSI with predict_days=5, window_days=55, alpha=0.5, lookback=0\n",
      "Downloading data for ^HSI from Yahoo Finance\n"
     ]
    },
    {
     "name": "stderr",
     "output_type": "stream",
     "text": [
      "[*********************100%***********************]  1 of 1 completed"
     ]
    },
    {
     "name": "stdout",
     "output_type": "stream",
     "text": [
      "<class 'pandas.core.frame.DataFrame'>\n",
      "DatetimeIndex: 121 entries, 2025-01-02 to 2025-07-02\n",
      "Data columns (total 6 columns):\n",
      " #   Column     Non-Null Count  Dtype  \n",
      "---  ------     --------------  -----  \n",
      " 0   Adj Close  121 non-null    float64\n",
      " 1   Close      121 non-null    float64\n",
      " 2   High       121 non-null    float64\n",
      " 3   Low        121 non-null    float64\n",
      " 4   Open       121 non-null    float64\n",
      " 5   Volume     121 non-null    int64  \n",
      "dtypes: float64(5), int64(1)\n",
      "memory usage: 6.6 KB\n",
      "None\n",
      "Close on [ 2025-01-03 00:00:00 ]= 19760.26953125 [ 2025-07-02 00:00:00 ]= 19240.890625\n",
      "Close on [ 2025-01-06 00:00:00 ]= 19688.2890625 [ 2025-07-02 00:00:00 ]= 19064.2890625\n",
      "Close on [ 2025-01-07 00:00:00 ]= 19447.580078125 [ 2025-07-02 00:00:00 ]= 18874.140625\n",
      "Close on [ 2025-01-08 00:00:00 ]= 19279.83984375 [ 2025-07-02 00:00:00 ]= 19219.779296875\n",
      "Close on [ 2025-01-09 00:00:00 ]= 19240.890625 [ 2025-07-02 00:00:00 ]= 19286.0703125\n",
      "Close on [ 2025-01-10 00:00:00 ]= 19064.2890625 [ 2025-07-02 00:00:00 ]= 19522.890625\n",
      "Close on [ 2025-01-13 00:00:00 ]= 18874.140625 [ 2025-07-02 00:00:00 ]= 19584.060546875\n",
      "Close on [ 2025-01-14 00:00:00 ]= 19219.779296875 [ 2025-07-02 00:00:00 ]= 19925.810546875\n",
      "Close on [ 2025-01-15 00:00:00 ]= 19286.0703125 [ 2025-07-02 00:00:00 ]= 20106.55078125\n",
      "Close on [ 2025-01-16 00:00:00 ]= 19522.890625 [ 2025-07-02 00:00:00 ]= 19778.76953125\n",
      "Close on [ 2025-01-17 00:00:00 ]= 19584.060546875 [ 2025-07-02 00:00:00 ]= 19700.560546875\n",
      "Close on [ 2025-01-20 00:00:00 ]= 19925.810546875 [ 2025-07-02 00:00:00 ]= 20066.189453125\n",
      "Close on [ 2025-01-21 00:00:00 ]= 20106.55078125 [ 2025-07-02 00:00:00 ]= 20197.76953125\n",
      "Close on [ 2025-01-22 00:00:00 ]= 19778.76953125 [ 2025-07-02 00:00:00 ]= 20225.109375\n",
      "Close on [ 2025-01-23 00:00:00 ]= 19700.560546875 [ 2025-07-02 00:00:00 ]= 20217.259765625\n",
      "Close on [ 2025-01-24 00:00:00 ]= 20066.189453125 [ 2025-07-02 00:00:00 ]= 20789.9609375\n",
      "Close on [ 2025-01-27 00:00:00 ]= 20197.76953125 [ 2025-07-02 00:00:00 ]= 20597.08984375\n",
      "Close on [ 2025-01-28 00:00:00 ]= 20225.109375 [ 2025-07-02 00:00:00 ]= 20891.619140625\n",
      "Close on [ 2025-02-03 00:00:00 ]= 20217.259765625 [ 2025-07-02 00:00:00 ]= 21133.5390625\n",
      "Close on [ 2025-02-04 00:00:00 ]= 20789.9609375 [ 2025-07-02 00:00:00 ]= 21521.98046875\n",
      "Close on [ 2025-02-05 00:00:00 ]= 20597.08984375 [ 2025-07-02 00:00:00 ]= 21294.859375\n",
      "Close on [ 2025-02-06 00:00:00 ]= 20891.619140625 [ 2025-07-02 00:00:00 ]= 21857.919921875\n",
      "Close on [ 2025-02-07 00:00:00 ]= 21133.5390625 [ 2025-07-02 00:00:00 ]= 21814.369140625\n",
      "Close on [ 2025-02-10 00:00:00 ]= 21521.98046875 [ 2025-07-02 00:00:00 ]= 22620.330078125\n",
      "Close on [ 2025-02-11 00:00:00 ]= 21294.859375 [ 2025-07-02 00:00:00 ]= 22616.23046875\n",
      "Close on [ 2025-02-12 00:00:00 ]= 21857.919921875 [ 2025-07-02 00:00:00 ]= 22976.810546875\n",
      "Close on [ 2025-02-13 00:00:00 ]= 21814.369140625 [ 2025-07-02 00:00:00 ]= 22944.240234375\n",
      "Close on [ 2025-02-14 00:00:00 ]= 22620.330078125 [ 2025-07-02 00:00:00 ]= 22576.98046875\n",
      "Close on [ 2025-02-17 00:00:00 ]= 22616.23046875 [ 2025-07-02 00:00:00 ]= 23477.919921875\n",
      "Close on [ 2025-02-18 00:00:00 ]= 22976.810546875 [ 2025-07-02 00:00:00 ]= 23341.609375\n",
      "Close on [ 2025-02-19 00:00:00 ]= 22944.240234375 [ 2025-07-02 00:00:00 ]= 23034.01953125\n",
      "Close on [ 2025-02-20 00:00:00 ]= 22576.98046875 [ 2025-07-02 00:00:00 ]= 23787.9296875\n",
      "Close on [ 2025-02-21 00:00:00 ]= 23477.919921875 [ 2025-07-02 00:00:00 ]= 23718.2890625\n",
      "Close on [ 2025-02-24 00:00:00 ]= 23341.609375 [ 2025-07-02 00:00:00 ]= 22941.3203125\n",
      "Close on [ 2025-02-25 00:00:00 ]= 23034.01953125 [ 2025-07-02 00:00:00 ]= 23006.26953125\n",
      "Close on [ 2025-02-26 00:00:00 ]= 23787.9296875 [ 2025-07-02 00:00:00 ]= 22941.76953125\n",
      "Close on [ 2025-02-27 00:00:00 ]= 23718.2890625 [ 2025-07-02 00:00:00 ]= 23594.2109375\n",
      "Close on [ 2025-02-28 00:00:00 ]= 22941.3203125 [ 2025-07-02 00:00:00 ]= 24369.7109375\n",
      "Close on [ 2025-03-03 00:00:00 ]= 23006.26953125 [ 2025-07-02 00:00:00 ]= 24231.30078125\n",
      "Close on [ 2025-03-04 00:00:00 ]= 22941.76953125 [ 2025-07-02 00:00:00 ]= 23783.490234375\n",
      "Close on [ 2025-03-05 00:00:00 ]= 23594.2109375 [ 2025-07-02 00:00:00 ]= 23782.140625\n",
      "Close on [ 2025-03-06 00:00:00 ]= 24369.7109375 [ 2025-07-02 00:00:00 ]= 23600.310546875\n",
      "Close on [ 2025-03-07 00:00:00 ]= 24231.30078125 [ 2025-07-02 00:00:00 ]= 23462.650390625\n",
      "Close on [ 2025-03-10 00:00:00 ]= 23783.490234375 [ 2025-07-02 00:00:00 ]= 23959.98046875\n",
      "Close on [ 2025-03-11 00:00:00 ]= 23782.140625 [ 2025-07-02 00:00:00 ]= 24145.5703125\n",
      "Close on [ 2025-03-12 00:00:00 ]= 23600.310546875 [ 2025-07-02 00:00:00 ]= 24740.5703125\n",
      "Close on [ 2025-03-13 00:00:00 ]= 23462.650390625 [ 2025-07-02 00:00:00 ]= 24771.140625\n",
      "Close on [ 2025-03-14 00:00:00 ]= 23959.98046875 [ 2025-07-02 00:00:00 ]= 24219.94921875\n",
      "Close on [ 2025-03-17 00:00:00 ]= 24145.5703125 [ 2025-07-02 00:00:00 ]= 23689.720703125\n",
      "Close on [ 2025-03-18 00:00:00 ]= 24740.5703125 [ 2025-07-02 00:00:00 ]= 23905.560546875\n",
      "Close on [ 2025-03-19 00:00:00 ]= 24771.140625 [ 2025-07-02 00:00:00 ]= 23344.25\n",
      "Close on [ 2025-03-20 00:00:00 ]= 24219.94921875 [ 2025-07-02 00:00:00 ]= 23483.3203125\n",
      "Close on [ 2025-03-21 00:00:00 ]= 23689.720703125 [ 2025-07-02 00:00:00 ]= 23578.80078125\n",
      "Close on [ 2025-03-24 00:00:00 ]= 23905.560546875 [ 2025-07-02 00:00:00 ]= 23426.599609375\n",
      "Close on [ 2025-03-25 00:00:00 ]= 23344.25 [ 2025-07-02 00:00:00 ]= 23119.580078125\n",
      "Close on [ 2025-03-26 00:00:00 ]= 23483.3203125 [ 2025-07-02 00:00:00 ]= 23206.83984375\n",
      "Close on [ 2025-03-27 00:00:00 ]= 23578.80078125 [ 2025-07-02 00:00:00 ]= 23202.529296875\n",
      "Close on [ 2025-03-28 00:00:00 ]= 23426.599609375 [ 2025-07-02 00:00:00 ]= 22849.810546875\n",
      "Close on [ 2025-03-31 00:00:00 ]= 23119.580078125 [ 2025-07-02 00:00:00 ]= 19828.30078125\n",
      "Close on [ 2025-04-01 00:00:00 ]= 23206.83984375 [ 2025-07-02 00:00:00 ]= 20127.6796875\n",
      "Close on [ 2025-04-02 00:00:00 ]= 23202.529296875 [ 2025-07-02 00:00:00 ]= 20264.490234375\n",
      "Close on [ 2025-04-03 00:00:00 ]= 22849.810546875 [ 2025-07-02 00:00:00 ]= 20681.779296875\n",
      "Close on [ 2025-04-07 00:00:00 ]= 19828.30078125 [ 2025-07-02 00:00:00 ]= 20914.689453125\n",
      "Close on [ 2025-04-08 00:00:00 ]= 20127.6796875 [ 2025-07-02 00:00:00 ]= 21417.400390625\n",
      "Close on [ 2025-04-09 00:00:00 ]= 20264.490234375 [ 2025-07-02 00:00:00 ]= 21466.26953125\n",
      "Close on [ 2025-04-10 00:00:00 ]= 20681.779296875 [ 2025-07-02 00:00:00 ]= 21056.98046875\n",
      "Close on [ 2025-04-11 00:00:00 ]= 20914.689453125 [ 2025-07-02 00:00:00 ]= 21395.140625\n",
      "Close on [ 2025-04-14 00:00:00 ]= 21417.400390625 [ 2025-07-02 00:00:00 ]= 21562.3203125\n",
      "Close on [ 2025-04-15 00:00:00 ]= 21466.26953125 [ 2025-07-02 00:00:00 ]= 22072.619140625\n",
      "Close on [ 2025-04-16 00:00:00 ]= 21056.98046875 [ 2025-07-02 00:00:00 ]= 21909.759765625\n",
      "Close on [ 2025-04-17 00:00:00 ]= 21395.140625 [ 2025-07-02 00:00:00 ]= 21980.740234375\n",
      "Close on [ 2025-04-22 00:00:00 ]= 21562.3203125 [ 2025-07-02 00:00:00 ]= 21971.9609375\n",
      "Close on [ 2025-04-23 00:00:00 ]= 22072.619140625 [ 2025-07-02 00:00:00 ]= 22008.109375\n",
      "Close on [ 2025-04-24 00:00:00 ]= 21909.759765625 [ 2025-07-02 00:00:00 ]= 22119.41015625\n",
      "Close on [ 2025-04-25 00:00:00 ]= 21980.740234375 [ 2025-07-02 00:00:00 ]= 22504.6796875\n",
      "Close on [ 2025-04-28 00:00:00 ]= 21971.9609375 [ 2025-07-02 00:00:00 ]= 22662.7109375\n",
      "Close on [ 2025-04-29 00:00:00 ]= 22008.109375 [ 2025-07-02 00:00:00 ]= 22691.880859375\n",
      "Close on [ 2025-04-30 00:00:00 ]= 22119.41015625 [ 2025-07-02 00:00:00 ]= 22775.919921875\n",
      "Close on [ 2025-05-02 00:00:00 ]= 22504.6796875 [ 2025-07-02 00:00:00 ]= 22867.740234375\n",
      "Close on [ 2025-05-06 00:00:00 ]= 22662.7109375 [ 2025-07-02 00:00:00 ]= 23549.4609375\n",
      "Close on [ 2025-05-07 00:00:00 ]= 22691.880859375 [ 2025-07-02 00:00:00 ]= 23108.26953125\n",
      "Close on [ 2025-05-08 00:00:00 ]= 22775.919921875 [ 2025-07-02 00:00:00 ]= 23640.650390625\n",
      "Close on [ 2025-05-09 00:00:00 ]= 22867.740234375 [ 2025-07-02 00:00:00 ]= 23453.16015625\n",
      "Close on [ 2025-05-12 00:00:00 ]= 23549.4609375 [ 2025-07-02 00:00:00 ]= 23345.05078125\n",
      "Close on [ 2025-05-13 00:00:00 ]= 23108.26953125 [ 2025-07-02 00:00:00 ]= 23332.720703125\n",
      "Close on [ 2025-05-14 00:00:00 ]= 23640.650390625 [ 2025-07-02 00:00:00 ]= 23681.48046875\n",
      "Close on [ 2025-05-15 00:00:00 ]= 23453.16015625 [ 2025-07-02 00:00:00 ]= 23827.779296875\n",
      "Close on [ 2025-05-16 00:00:00 ]= 23345.05078125 [ 2025-07-02 00:00:00 ]= 23544.310546875\n",
      "Close on [ 2025-05-19 00:00:00 ]= 23332.720703125 [ 2025-07-02 00:00:00 ]= 23601.259765625\n",
      "Close on [ 2025-05-20 00:00:00 ]= 23681.48046875 [ 2025-07-02 00:00:00 ]= 23282.330078125\n",
      "Close on [ 2025-05-21 00:00:00 ]= 23827.779296875 [ 2025-07-02 00:00:00 ]= 23381.990234375\n",
      "Close on [ 2025-05-22 00:00:00 ]= 23544.310546875 [ 2025-07-02 00:00:00 ]= 23258.310546875\n",
      "Close on [ 2025-05-23 00:00:00 ]= 23601.259765625 [ 2025-07-02 00:00:00 ]= 23573.380859375\n",
      "Close on [ 2025-05-26 00:00:00 ]= 23282.330078125 [ 2025-07-02 00:00:00 ]= 23289.76953125\n",
      "Close on [ 2025-05-27 00:00:00 ]= 23381.990234375 [ 2025-07-02 00:00:00 ]= 23157.970703125\n",
      "Close on [ 2025-05-28 00:00:00 ]= 23258.310546875 [ 2025-07-02 00:00:00 ]= 23512.490234375\n",
      "Close on [ 2025-05-29 00:00:00 ]= 23573.380859375 [ 2025-07-02 00:00:00 ]= 23654.029296875\n",
      "Close on [ 2025-05-30 00:00:00 ]= 23289.76953125 [ 2025-07-02 00:00:00 ]= 23906.970703125\n",
      "Close on [ 2025-06-02 00:00:00 ]= 23157.970703125 [ 2025-07-02 00:00:00 ]= 23792.5390625\n",
      "Close on [ 2025-06-03 00:00:00 ]= 23512.490234375 [ 2025-07-02 00:00:00 ]= 24181.4296875\n",
      "Close on [ 2025-06-04 00:00:00 ]= 23654.029296875 [ 2025-07-02 00:00:00 ]= 24162.869140625\n",
      "Close on [ 2025-06-05 00:00:00 ]= 23906.970703125 [ 2025-07-02 00:00:00 ]= 24366.939453125\n",
      "Close on [ 2025-06-06 00:00:00 ]= 23792.5390625 [ 2025-07-02 00:00:00 ]= 24035.380859375\n",
      "Close on [ 2025-06-09 00:00:00 ]= 24181.4296875 [ 2025-07-02 00:00:00 ]= 23892.560546875\n",
      "Close on [ 2025-06-10 00:00:00 ]= 24162.869140625 [ 2025-07-02 00:00:00 ]= 24060.990234375\n",
      "Close on [ 2025-06-11 00:00:00 ]= 24366.939453125 [ 2025-07-02 00:00:00 ]= 23980.30078125\n",
      "Close on [ 2025-06-12 00:00:00 ]= 24035.380859375 [ 2025-07-02 00:00:00 ]= 23710.689453125\n",
      "Close on [ 2025-06-13 00:00:00 ]= 23892.560546875 [ 2025-07-02 00:00:00 ]= 23237.740234375\n",
      "Close on [ 2025-06-16 00:00:00 ]= 24060.990234375 [ 2025-07-02 00:00:00 ]= 23530.48046875\n",
      "Close on [ 2025-06-17 00:00:00 ]= 23980.30078125 [ 2025-07-02 00:00:00 ]= 23689.130859375\n",
      "Close on [ 2025-06-18 00:00:00 ]= 23710.689453125 [ 2025-07-02 00:00:00 ]= 24177.0703125\n",
      "Close on [ 2025-06-19 00:00:00 ]= 23237.740234375 [ 2025-07-02 00:00:00 ]= 24474.669921875\n",
      "Close on [ 2025-06-20 00:00:00 ]= 23530.48046875 [ 2025-07-02 00:00:00 ]= 24325.400390625\n",
      "Close on [ 2025-06-23 00:00:00 ]= 23689.130859375 [ 2025-07-02 00:00:00 ]= 24284.150390625\n",
      "Find rising star: lookback=0 at 2025-01-14 00:00:00 with 19064.2890625, 18874.140625, 19219.779296875   \n",
      "Rising Star found at 2025-01-14 00:00:00 with Low=18901.560546875\n",
      "Find rising star: lookback=0 at 2025-06-20 00:00:00 with 23710.689453125, 23237.740234375, 23530.48046875   \n",
      "Rising Star found at 2025-06-20 00:00:00 with Low=23291.400390625\n",
      "Rising Star markers: 2 non-NaN values\n",
      "Evening Star markers: 0 non-NaN values\n"
     ]
    },
    {
     "name": "stderr",
     "output_type": "stream",
     "text": [
      "\n"
     ]
    }
   ],
   "source": [
    "fulldata = MA4.download_setup_data(ticker=ticker, predict_days=predict_days, window_days=window_days, alpha=alpha, lback=star_lbdays, \n",
    "                               start_date=startdate, end_date=enddate)"
   ]
  },
  {
   "cell_type": "code",
   "execution_count": 7,
   "id": "ceb8ce2c-f915-45ae-8b98-75267f0ecac8",
   "metadata": {
    "scrolled": true
   },
   "outputs": [
    {
     "name": "stderr",
     "output_type": "stream",
     "text": [
      "/home/thomas/projects/Fin-Agents/POC/MA4Star_Strategy.py:312: FutureWarning: Setting an item of incompatible dtype is deprecated and will raise an error in a future version of pandas. Value '2025-03-26' has dtype incompatible with float64, please explicitly cast to a compatible dtype first.\n",
      "  data.at[data.index[lastdayptr], \"predict_date\"] = predict_d\n"
     ]
    },
    {
     "name": "stdout",
     "output_type": "stream",
     "text": [
      "generate_chart ^HSI with predict_days=5, window_days=55, datalabel=^HSI_55_0.5_5_0\n",
      "Adding Rising Star markers for window 0 is \n",
      "Adding Rising Star markers for window 1 is \n",
      "Adding Rising Star markers for window 2 is \n",
      "Adding Rising Star markers for window 3 is \n",
      "Adding Rising Star markers for window 4 is \n",
      "Adding Rising Star markers for window 5 is \n",
      "Adding Rising Star markers for window 6 is \n",
      "Adding Rising Star markers for window 7 is \n",
      "Adding Rising Star markers for window 8 is \n",
      "Adding Rising Star markers for window 59 is \n",
      "Adding Rising Star markers for window 60 is \n",
      "Skipping window 60 due to missing label\n",
      "Generated 60 charts for ^HSI\n"
     ]
    }
   ],
   "source": [
    "validate_charts, validate_labels, finaldata = MA4.generate_chart(data=fulldata, ticker=ticker, predict_days=predict_days, \n",
    "                                                             window_days=window_days, datalabel_=data_label)"
   ]
  },
  {
   "cell_type": "code",
   "execution_count": 8,
   "id": "005d40b6-f6b8-436c-9cee-8bb0ea31601a",
   "metadata": {},
   "outputs": [],
   "source": [
    "def model_predict( model, X_test):\n",
    "    y_pred = model.predict(X_test)\n",
    "    y_pred_classes = np.argmax(y_pred, axis=1)\n",
    "    return y_pred_classes"
   ]
  },
  {
   "cell_type": "code",
   "execution_count": 9,
   "id": "6ac8555f-84df-4755-95fd-f4af37b841e7",
   "metadata": {},
   "outputs": [],
   "source": [
    "def convert2Labels(y_pred_classes):\n",
    "    label_names=[]\n",
    "    for pclass in y_pred_classes:\n",
    "        label_names.append(MA4.LABEL_L[pclass])\n",
    "    print(len(label_names))\n",
    "    print(label_names)\n",
    "    return label_names"
   ]
  },
  {
   "cell_type": "code",
   "execution_count": 10,
   "id": "da94d2be-332d-4063-8db0-4b6dada4d790",
   "metadata": {},
   "outputs": [
    {
     "name": "stdout",
     "output_type": "stream",
     "text": [
      "Loaded 60 records from validate_metadata/^HSI_55_0.5_5_0_CNN_30_32_metadata.csv\n",
      "(60, 224, 224, 3)   ,   (60,)\n"
     ]
    },
    {
     "name": "stderr",
     "output_type": "stream",
     "text": [
      "WARNING: All log messages before absl::InitializeLog() is called are written to STDERR\n",
      "I0000 00:00:1752471834.971038   69407 service.cc:146] XLA service 0x745d8c105b80 initialized for platform CUDA (this does not guarantee that XLA will be used). Devices:\n",
      "I0000 00:00:1752471834.971075   69407 service.cc:154]   StreamExecutor device (0): NVIDIA GeForce RTX 4060 Laptop GPU, Compute Capability 8.9\n",
      "2025-07-13 22:43:54.977629: I tensorflow/compiler/mlir/tensorflow/utils/dump_mlir_util.cc:268] disabling MLIR crash reproducer, set env var `MLIR_CRASH_REPRODUCER_DIRECTORY` to enable.\n",
      "2025-07-13 22:43:55.010361: I external/local_xla/xla/stream_executor/cuda/cuda_dnn.cc:531] Loaded cuDNN version 8907\n"
     ]
    },
    {
     "name": "stdout",
     "output_type": "stream",
     "text": [
      "\u001b[1m1/2\u001b[0m \u001b[32m━━━━━━━━━━\u001b[0m\u001b[37m━━━━━━━━━━\u001b[0m \u001b[1m1s\u001b[0m 1s/step"
     ]
    },
    {
     "name": "stderr",
     "output_type": "stream",
     "text": [
      "I0000 00:00:1752471836.352977   69407 device_compiler.h:188] Compiled cluster using XLA!  This line is logged at most once for the lifetime of the process.\n"
     ]
    },
    {
     "name": "stdout",
     "output_type": "stream",
     "text": [
      "\u001b[1m2/2\u001b[0m \u001b[32m━━━━━━━━━━━━━━━━━━━━\u001b[0m\u001b[37m\u001b[0m \u001b[1m3s\u001b[0m 1s/step\n",
      "60\n",
      "['UP', 'DOWN', 'DOWN', 'UP', 'DOWN', 'DOWN', 'DOWN', 'DOWN', 'DOWN', 'SIDEWAY', 'UP', 'UP', 'DOWN', 'DOWN', 'UP', 'UP', 'DOWN', 'DOWN', 'UP', 'DOWN', 'DOWN', 'DOWN', 'DOWN', 'DOWN', 'DOWN', 'DOWN', 'DOWN', 'DOWN', 'SIDEWAY', 'DOWN', 'DOWN', 'DOWN', 'UP', 'DOWN', 'DOWN', 'DOWN', 'DOWN', 'UP', 'DOWN', 'DOWN', 'DOWN', 'SIDEWAY', 'DOWN', 'UP', 'UP', 'DOWN', 'DOWN', 'DOWN', 'UP', 'SIDEWAY', 'DOWN', 'UP', 'DOWN', 'DOWN', 'DOWN', 'DOWN', 'DOWN', 'DOWN', 'UP', 'DOWN']\n",
      "\n",
      "^HSI_55_0.5_5_0_CNN_30_32 Performance:\n",
      "Accuracy: 0.3000\n",
      "Precision: 0.3500\n",
      "Recall: 0.3000\n",
      "F1-Score: 0.2762\n",
      "0.3 0.35 0.3 0.27619047619047615\n"
     ]
    },
    {
     "name": "stderr",
     "output_type": "stream",
     "text": [
      "/tmp/ipykernel_69266/3482890599.py:19: SettingWithCopyWarning: \n",
      "A value is trying to be set on a copy of a slice from a DataFrame.\n",
      "Try using .loc[row_indexer,col_indexer] = value instead\n",
      "\n",
      "See the caveats in the documentation: https://pandas.pydata.org/pandas-docs/stable/user_guide/indexing.html#returning-a-view-versus-a-copy\n",
      "  df_filtered['pred_Labels'] = y_pred_labels\n"
     ]
    }
   ],
   "source": [
    "validate_df = pd.DataFrame({\"chart_path\": validate_charts, \"label\": validate_labels})\n",
    "# display(validate_df)\n",
    "validate_fullp = os.path.join(\"validate_metadata\", f\"{model_label}_metadata.csv\")\n",
    "# print(validate_fullp)\n",
    "os.makedirs(os.path.dirname(validate_fullp), exist_ok=True)\n",
    "validate_df.to_csv(validate_fullp, index=False)\n",
    "\n",
    "# display(fulldata.head(30))\n",
    "df_filtered = finaldata.dropna(subset=['predict_date'])\n",
    "# display(df_filtered)\n",
    "\n",
    "validate_X, validate_Y = MA4.load_data(validate_fullp)\n",
    "print(validate_X.shape, \"  ,  \", validate_Y.shape)\n",
    "\n",
    "y_pred_classes = model_predict(model, validate_X)\n",
    "\n",
    "y_pred_labels = convert2Labels(y_pred_classes)\n",
    "\n",
    "df_filtered['pred_Labels'] = y_pred_labels\n",
    "\n",
    "start_d = df_filtered.index[0].strftime('%Y%m%d')\n",
    "end_d = df_filtered.index[0].strftime('%Y%m%d')\n",
    "result_fullp = os.path.join(\"validate_results\", f\"{model_label}_{start_d}_{end_d}.csv\")\n",
    "os.makedirs(os.path.dirname(result_fullp), exist_ok=True)\n",
    "df_filtered.to_csv(result_fullp, index=False)\n",
    "\n",
    "acc, prec, recall, f1 = MA4.cal_accuracy(ticker, validate_Y, y_pred_classes, model_name, model_label)\n",
    "print(acc, prec, recall, f1)"
   ]
  },
  {
   "cell_type": "code",
   "execution_count": null,
   "id": "ea787a87-fa8b-45ff-9188-c1afb0300200",
   "metadata": {},
   "outputs": [],
   "source": []
  }
 ],
 "metadata": {
  "kernelspec": {
   "display_name": "Python 3 (ipykernel)",
   "language": "python",
   "name": "python3"
  },
  "language_info": {
   "codemirror_mode": {
    "name": "ipython",
    "version": 3
   },
   "file_extension": ".py",
   "mimetype": "text/x-python",
   "name": "python",
   "nbconvert_exporter": "python",
   "pygments_lexer": "ipython3",
   "version": "3.10.12"
  }
 },
 "nbformat": 4,
 "nbformat_minor": 5
}
