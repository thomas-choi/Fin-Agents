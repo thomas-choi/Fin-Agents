{
 "cells": [
  {
   "cell_type": "code",
   "execution_count": 1,
   "id": "4e3e3c3e-6562-4e82-ba41-0181a4ee467e",
   "metadata": {},
   "outputs": [
    {
     "name": "stderr",
     "output_type": "stream",
     "text": [
      "2025-07-08 23:46:13.207890: E external/local_xla/xla/stream_executor/cuda/cuda_fft.cc:485] Unable to register cuFFT factory: Attempting to register factory for plugin cuFFT when one has already been registered\n",
      "2025-07-08 23:46:13.219157: E external/local_xla/xla/stream_executor/cuda/cuda_dnn.cc:8454] Unable to register cuDNN factory: Attempting to register factory for plugin cuDNN when one has already been registered\n",
      "2025-07-08 23:46:13.222647: E external/local_xla/xla/stream_executor/cuda/cuda_blas.cc:1452] Unable to register cuBLAS factory: Attempting to register factory for plugin cuBLAS when one has already been registered\n",
      "2025-07-08 23:46:13.231111: I tensorflow/core/platform/cpu_feature_guard.cc:210] This TensorFlow binary is optimized to use available CPU instructions in performance-critical operations.\n",
      "To enable the following instructions: AVX2 FMA, in other operations, rebuild TensorFlow with the appropriate compiler flags.\n"
     ]
    }
   ],
   "source": [
    "import MA4Star_Strategy as MA4\n",
    "import os\n",
    "import mplfinance as mpf\n",
    "import matplotlib.pyplot as plt"
   ]
  },
  {
   "cell_type": "code",
   "execution_count": 2,
   "id": "865719d1-cda7-45d0-bfe2-6072d47a78ee",
   "metadata": {},
   "outputs": [
    {
     "name": "stdout",
     "output_type": "stream",
     "text": [
      "SPY_55_0.5_5_0\n"
     ]
    }
   ],
   "source": [
    "ticker = \"SPY\"\n",
    "window_days = 55\n",
    "alpha = 0.5\n",
    "star_lbdays=0\n",
    "predict_days=5\n",
    "data_label = MA4.data_label(ticker, window_days, alpha, predict_days, star_lbdays)\n",
    "print(data_label)"
   ]
  },
  {
   "cell_type": "code",
   "execution_count": 3,
   "id": "d95a85f4-8360-421a-9da9-3899e2f7a4aa",
   "metadata": {
    "scrolled": true
   },
   "outputs": [
    {
     "name": "stdout",
     "output_type": "stream",
     "text": [
      "SPY_55_0.5_5_0_CNN_30_32\n"
     ]
    },
    {
     "name": "stderr",
     "output_type": "stream",
     "text": [
      "WARNING: All log messages before absl::InitializeLog() is called are written to STDERR\n",
      "I0000 00:00:1752018374.907029     605 cuda_executor.cc:1015] successful NUMA node read from SysFS had negative value (-1), but there must be at least one NUMA node, so returning NUMA node zero. See more at https://github.com/torvalds/linux/blob/v6.0/Documentation/ABI/testing/sysfs-bus-pci#L344-L355\n",
      "I0000 00:00:1752018374.916575     605 cuda_executor.cc:1015] successful NUMA node read from SysFS had negative value (-1), but there must be at least one NUMA node, so returning NUMA node zero. See more at https://github.com/torvalds/linux/blob/v6.0/Documentation/ABI/testing/sysfs-bus-pci#L344-L355\n",
      "I0000 00:00:1752018374.916782     605 cuda_executor.cc:1015] successful NUMA node read from SysFS had negative value (-1), but there must be at least one NUMA node, so returning NUMA node zero. See more at https://github.com/torvalds/linux/blob/v6.0/Documentation/ABI/testing/sysfs-bus-pci#L344-L355\n",
      "I0000 00:00:1752018374.918477     605 cuda_executor.cc:1015] successful NUMA node read from SysFS had negative value (-1), but there must be at least one NUMA node, so returning NUMA node zero. See more at https://github.com/torvalds/linux/blob/v6.0/Documentation/ABI/testing/sysfs-bus-pci#L344-L355\n",
      "I0000 00:00:1752018374.918660     605 cuda_executor.cc:1015] successful NUMA node read from SysFS had negative value (-1), but there must be at least one NUMA node, so returning NUMA node zero. See more at https://github.com/torvalds/linux/blob/v6.0/Documentation/ABI/testing/sysfs-bus-pci#L344-L355\n",
      "I0000 00:00:1752018374.918807     605 cuda_executor.cc:1015] successful NUMA node read from SysFS had negative value (-1), but there must be at least one NUMA node, so returning NUMA node zero. See more at https://github.com/torvalds/linux/blob/v6.0/Documentation/ABI/testing/sysfs-bus-pci#L344-L355\n",
      "I0000 00:00:1752018374.976391     605 cuda_executor.cc:1015] successful NUMA node read from SysFS had negative value (-1), but there must be at least one NUMA node, so returning NUMA node zero. See more at https://github.com/torvalds/linux/blob/v6.0/Documentation/ABI/testing/sysfs-bus-pci#L344-L355\n",
      "I0000 00:00:1752018374.976512     605 cuda_executor.cc:1015] successful NUMA node read from SysFS had negative value (-1), but there must be at least one NUMA node, so returning NUMA node zero. See more at https://github.com/torvalds/linux/blob/v6.0/Documentation/ABI/testing/sysfs-bus-pci#L344-L355\n",
      "I0000 00:00:1752018374.976594     605 cuda_executor.cc:1015] successful NUMA node read from SysFS had negative value (-1), but there must be at least one NUMA node, so returning NUMA node zero. See more at https://github.com/torvalds/linux/blob/v6.0/Documentation/ABI/testing/sysfs-bus-pci#L344-L355\n",
      "2025-07-08 23:46:14.976660: I tensorflow/core/common_runtime/gpu/gpu_device.cc:2021] Created device /job:localhost/replica:0/task:0/device:GPU:0 with 22110 MB memory:  -> device: 0, name: NVIDIA GeForce RTX 3090, pci bus id: 0000:01:00.0, compute capability: 8.6\n"
     ]
    },
    {
     "name": "stdout",
     "output_type": "stream",
     "text": [
      "Model SPY_55_0.5_5_0_CNN_30_32 loaded successfully.\n"
     ]
    },
    {
     "data": {
      "text/html": [
       "<pre style=\"white-space:pre;overflow-x:auto;line-height:normal;font-family:Menlo,'DejaVu Sans Mono',consolas,'Courier New',monospace\"><span style=\"font-weight: bold\">Model: \"sequential\"</span>\n",
       "</pre>\n"
      ],
      "text/plain": [
       "\u001b[1mModel: \"sequential\"\u001b[0m\n"
      ]
     },
     "metadata": {},
     "output_type": "display_data"
    },
    {
     "data": {
      "text/html": [
       "<pre style=\"white-space:pre;overflow-x:auto;line-height:normal;font-family:Menlo,'DejaVu Sans Mono',consolas,'Courier New',monospace\">┏━━━━━━━━━━━━━━━━━━━━━━━━━━━━━━━━━┳━━━━━━━━━━━━━━━━━━━━━━━━┳━━━━━━━━━━━━━━━┓\n",
       "┃<span style=\"font-weight: bold\"> Layer (type)                    </span>┃<span style=\"font-weight: bold\"> Output Shape           </span>┃<span style=\"font-weight: bold\">       Param # </span>┃\n",
       "┡━━━━━━━━━━━━━━━━━━━━━━━━━━━━━━━━━╇━━━━━━━━━━━━━━━━━━━━━━━━╇━━━━━━━━━━━━━━━┩\n",
       "│ conv2d (<span style=\"color: #0087ff; text-decoration-color: #0087ff\">Conv2D</span>)                 │ (<span style=\"color: #00d7ff; text-decoration-color: #00d7ff\">None</span>, <span style=\"color: #00af00; text-decoration-color: #00af00\">222</span>, <span style=\"color: #00af00; text-decoration-color: #00af00\">222</span>, <span style=\"color: #00af00; text-decoration-color: #00af00\">32</span>)   │           <span style=\"color: #00af00; text-decoration-color: #00af00\">896</span> │\n",
       "├─────────────────────────────────┼────────────────────────┼───────────────┤\n",
       "│ max_pooling2d (<span style=\"color: #0087ff; text-decoration-color: #0087ff\">MaxPooling2D</span>)    │ (<span style=\"color: #00d7ff; text-decoration-color: #00d7ff\">None</span>, <span style=\"color: #00af00; text-decoration-color: #00af00\">111</span>, <span style=\"color: #00af00; text-decoration-color: #00af00\">111</span>, <span style=\"color: #00af00; text-decoration-color: #00af00\">32</span>)   │             <span style=\"color: #00af00; text-decoration-color: #00af00\">0</span> │\n",
       "├─────────────────────────────────┼────────────────────────┼───────────────┤\n",
       "│ conv2d_1 (<span style=\"color: #0087ff; text-decoration-color: #0087ff\">Conv2D</span>)               │ (<span style=\"color: #00d7ff; text-decoration-color: #00d7ff\">None</span>, <span style=\"color: #00af00; text-decoration-color: #00af00\">109</span>, <span style=\"color: #00af00; text-decoration-color: #00af00\">109</span>, <span style=\"color: #00af00; text-decoration-color: #00af00\">64</span>)   │        <span style=\"color: #00af00; text-decoration-color: #00af00\">18,496</span> │\n",
       "├─────────────────────────────────┼────────────────────────┼───────────────┤\n",
       "│ max_pooling2d_1 (<span style=\"color: #0087ff; text-decoration-color: #0087ff\">MaxPooling2D</span>)  │ (<span style=\"color: #00d7ff; text-decoration-color: #00d7ff\">None</span>, <span style=\"color: #00af00; text-decoration-color: #00af00\">54</span>, <span style=\"color: #00af00; text-decoration-color: #00af00\">54</span>, <span style=\"color: #00af00; text-decoration-color: #00af00\">64</span>)     │             <span style=\"color: #00af00; text-decoration-color: #00af00\">0</span> │\n",
       "├─────────────────────────────────┼────────────────────────┼───────────────┤\n",
       "│ flatten (<span style=\"color: #0087ff; text-decoration-color: #0087ff\">Flatten</span>)               │ (<span style=\"color: #00d7ff; text-decoration-color: #00d7ff\">None</span>, <span style=\"color: #00af00; text-decoration-color: #00af00\">186624</span>)         │             <span style=\"color: #00af00; text-decoration-color: #00af00\">0</span> │\n",
       "├─────────────────────────────────┼────────────────────────┼───────────────┤\n",
       "│ dense (<span style=\"color: #0087ff; text-decoration-color: #0087ff\">Dense</span>)                   │ (<span style=\"color: #00d7ff; text-decoration-color: #00d7ff\">None</span>, <span style=\"color: #00af00; text-decoration-color: #00af00\">128</span>)            │    <span style=\"color: #00af00; text-decoration-color: #00af00\">23,888,000</span> │\n",
       "├─────────────────────────────────┼────────────────────────┼───────────────┤\n",
       "│ dropout (<span style=\"color: #0087ff; text-decoration-color: #0087ff\">Dropout</span>)               │ (<span style=\"color: #00d7ff; text-decoration-color: #00d7ff\">None</span>, <span style=\"color: #00af00; text-decoration-color: #00af00\">128</span>)            │             <span style=\"color: #00af00; text-decoration-color: #00af00\">0</span> │\n",
       "├─────────────────────────────────┼────────────────────────┼───────────────┤\n",
       "│ dense_1 (<span style=\"color: #0087ff; text-decoration-color: #0087ff\">Dense</span>)                 │ (<span style=\"color: #00d7ff; text-decoration-color: #00d7ff\">None</span>, <span style=\"color: #00af00; text-decoration-color: #00af00\">3</span>)              │           <span style=\"color: #00af00; text-decoration-color: #00af00\">387</span> │\n",
       "└─────────────────────────────────┴────────────────────────┴───────────────┘\n",
       "</pre>\n"
      ],
      "text/plain": [
       "┏━━━━━━━━━━━━━━━━━━━━━━━━━━━━━━━━━┳━━━━━━━━━━━━━━━━━━━━━━━━┳━━━━━━━━━━━━━━━┓\n",
       "┃\u001b[1m \u001b[0m\u001b[1mLayer (type)                   \u001b[0m\u001b[1m \u001b[0m┃\u001b[1m \u001b[0m\u001b[1mOutput Shape          \u001b[0m\u001b[1m \u001b[0m┃\u001b[1m \u001b[0m\u001b[1m      Param #\u001b[0m\u001b[1m \u001b[0m┃\n",
       "┡━━━━━━━━━━━━━━━━━━━━━━━━━━━━━━━━━╇━━━━━━━━━━━━━━━━━━━━━━━━╇━━━━━━━━━━━━━━━┩\n",
       "│ conv2d (\u001b[38;5;33mConv2D\u001b[0m)                 │ (\u001b[38;5;45mNone\u001b[0m, \u001b[38;5;34m222\u001b[0m, \u001b[38;5;34m222\u001b[0m, \u001b[38;5;34m32\u001b[0m)   │           \u001b[38;5;34m896\u001b[0m │\n",
       "├─────────────────────────────────┼────────────────────────┼───────────────┤\n",
       "│ max_pooling2d (\u001b[38;5;33mMaxPooling2D\u001b[0m)    │ (\u001b[38;5;45mNone\u001b[0m, \u001b[38;5;34m111\u001b[0m, \u001b[38;5;34m111\u001b[0m, \u001b[38;5;34m32\u001b[0m)   │             \u001b[38;5;34m0\u001b[0m │\n",
       "├─────────────────────────────────┼────────────────────────┼───────────────┤\n",
       "│ conv2d_1 (\u001b[38;5;33mConv2D\u001b[0m)               │ (\u001b[38;5;45mNone\u001b[0m, \u001b[38;5;34m109\u001b[0m, \u001b[38;5;34m109\u001b[0m, \u001b[38;5;34m64\u001b[0m)   │        \u001b[38;5;34m18,496\u001b[0m │\n",
       "├─────────────────────────────────┼────────────────────────┼───────────────┤\n",
       "│ max_pooling2d_1 (\u001b[38;5;33mMaxPooling2D\u001b[0m)  │ (\u001b[38;5;45mNone\u001b[0m, \u001b[38;5;34m54\u001b[0m, \u001b[38;5;34m54\u001b[0m, \u001b[38;5;34m64\u001b[0m)     │             \u001b[38;5;34m0\u001b[0m │\n",
       "├─────────────────────────────────┼────────────────────────┼───────────────┤\n",
       "│ flatten (\u001b[38;5;33mFlatten\u001b[0m)               │ (\u001b[38;5;45mNone\u001b[0m, \u001b[38;5;34m186624\u001b[0m)         │             \u001b[38;5;34m0\u001b[0m │\n",
       "├─────────────────────────────────┼────────────────────────┼───────────────┤\n",
       "│ dense (\u001b[38;5;33mDense\u001b[0m)                   │ (\u001b[38;5;45mNone\u001b[0m, \u001b[38;5;34m128\u001b[0m)            │    \u001b[38;5;34m23,888,000\u001b[0m │\n",
       "├─────────────────────────────────┼────────────────────────┼───────────────┤\n",
       "│ dropout (\u001b[38;5;33mDropout\u001b[0m)               │ (\u001b[38;5;45mNone\u001b[0m, \u001b[38;5;34m128\u001b[0m)            │             \u001b[38;5;34m0\u001b[0m │\n",
       "├─────────────────────────────────┼────────────────────────┼───────────────┤\n",
       "│ dense_1 (\u001b[38;5;33mDense\u001b[0m)                 │ (\u001b[38;5;45mNone\u001b[0m, \u001b[38;5;34m3\u001b[0m)              │           \u001b[38;5;34m387\u001b[0m │\n",
       "└─────────────────────────────────┴────────────────────────┴───────────────┘\n"
      ]
     },
     "metadata": {},
     "output_type": "display_data"
    },
    {
     "data": {
      "text/html": [
       "<pre style=\"white-space:pre;overflow-x:auto;line-height:normal;font-family:Menlo,'DejaVu Sans Mono',consolas,'Courier New',monospace\"><span style=\"font-weight: bold\"> Total params: </span><span style=\"color: #00af00; text-decoration-color: #00af00\">71,723,339</span> (273.60 MB)\n",
       "</pre>\n"
      ],
      "text/plain": [
       "\u001b[1m Total params: \u001b[0m\u001b[38;5;34m71,723,339\u001b[0m (273.60 MB)\n"
      ]
     },
     "metadata": {},
     "output_type": "display_data"
    },
    {
     "data": {
      "text/html": [
       "<pre style=\"white-space:pre;overflow-x:auto;line-height:normal;font-family:Menlo,'DejaVu Sans Mono',consolas,'Courier New',monospace\"><span style=\"font-weight: bold\"> Trainable params: </span><span style=\"color: #00af00; text-decoration-color: #00af00\">23,907,779</span> (91.20 MB)\n",
       "</pre>\n"
      ],
      "text/plain": [
       "\u001b[1m Trainable params: \u001b[0m\u001b[38;5;34m23,907,779\u001b[0m (91.20 MB)\n"
      ]
     },
     "metadata": {},
     "output_type": "display_data"
    },
    {
     "data": {
      "text/html": [
       "<pre style=\"white-space:pre;overflow-x:auto;line-height:normal;font-family:Menlo,'DejaVu Sans Mono',consolas,'Courier New',monospace\"><span style=\"font-weight: bold\"> Non-trainable params: </span><span style=\"color: #00af00; text-decoration-color: #00af00\">0</span> (0.00 B)\n",
       "</pre>\n"
      ],
      "text/plain": [
       "\u001b[1m Non-trainable params: \u001b[0m\u001b[38;5;34m0\u001b[0m (0.00 B)\n"
      ]
     },
     "metadata": {},
     "output_type": "display_data"
    },
    {
     "data": {
      "text/html": [
       "<pre style=\"white-space:pre;overflow-x:auto;line-height:normal;font-family:Menlo,'DejaVu Sans Mono',consolas,'Courier New',monospace\"><span style=\"font-weight: bold\"> Optimizer params: </span><span style=\"color: #00af00; text-decoration-color: #00af00\">47,815,560</span> (182.40 MB)\n",
       "</pre>\n"
      ],
      "text/plain": [
       "\u001b[1m Optimizer params: \u001b[0m\u001b[38;5;34m47,815,560\u001b[0m (182.40 MB)\n"
      ]
     },
     "metadata": {},
     "output_type": "display_data"
    }
   ],
   "source": [
    "batch_size = 32\n",
    "epochs = 30\n",
    "model_label = MA4.model_label(data_label, \"CNN\", epochs, batch_size)\n",
    "print(model_label)\n",
    "model = MA4.retreive_model(model_label)\n",
    "if model is not None:\n",
    "    model.summary()"
   ]
  },
  {
   "cell_type": "code",
   "execution_count": 4,
   "id": "808749b7-daec-453c-acd1-b944b61fad39",
   "metadata": {},
   "outputs": [],
   "source": [
    "import yfinance as yf\n",
    "import pandas as pd\n",
    "import numpy as np\n",
    "from datetime import date, timedelta, datetime"
   ]
  },
  {
   "cell_type": "code",
   "execution_count": 5,
   "id": "a0948ee4-417b-4c6c-9b88-7c6ed6ab958f",
   "metadata": {},
   "outputs": [
    {
     "name": "stdout",
     "output_type": "stream",
     "text": [
      "56d\n",
      "2025-05-08  ,  2025-07-03\n"
     ]
    },
    {
     "name": "stderr",
     "output_type": "stream",
     "text": [
      "/tmp/ipykernel_605/632347916.py:6: FutureWarning: YF.download() has changed argument auto_adjust default to True\n",
      "  data = yf.download(ticker, start=startdate, end=enddate, progress=False)\n"
     ]
    }
   ],
   "source": [
    "period=f\"{window_days+1}d\"\n",
    "print(period)\n",
    "enddate = date(2025, 7, 3)\n",
    "startdate = enddate - timedelta(days=window_days+1)\n",
    "print(startdate, ' , ', enddate)\n",
    "data = yf.download(ticker, start=startdate, end=enddate, progress=False)"
   ]
  },
  {
   "cell_type": "code",
   "execution_count": 6,
   "id": "9019ea7c-69ba-4cbb-bf89-4d2ae2f5f188",
   "metadata": {},
   "outputs": [
    {
     "data": {
      "text/plain": [
       "(38, 5)"
      ]
     },
     "metadata": {},
     "output_type": "display_data"
    },
    {
     "data": {
      "text/html": [
       "<div>\n",
       "<style scoped>\n",
       "    .dataframe tbody tr th:only-of-type {\n",
       "        vertical-align: middle;\n",
       "    }\n",
       "\n",
       "    .dataframe tbody tr th {\n",
       "        vertical-align: top;\n",
       "    }\n",
       "\n",
       "    .dataframe thead th {\n",
       "        text-align: right;\n",
       "    }\n",
       "</style>\n",
       "<table border=\"1\" class=\"dataframe\">\n",
       "  <thead>\n",
       "    <tr style=\"text-align: right;\">\n",
       "      <th></th>\n",
       "      <th>Close</th>\n",
       "      <th>High</th>\n",
       "      <th>Low</th>\n",
       "      <th>Open</th>\n",
       "      <th>Volume</th>\n",
       "    </tr>\n",
       "    <tr>\n",
       "      <th>Date</th>\n",
       "      <th></th>\n",
       "      <th></th>\n",
       "      <th></th>\n",
       "      <th></th>\n",
       "      <th></th>\n",
       "    </tr>\n",
       "  </thead>\n",
       "  <tbody>\n",
       "    <tr>\n",
       "      <th>2025-05-08</th>\n",
       "      <td>563.394470</td>\n",
       "      <td>568.628996</td>\n",
       "      <td>560.044388</td>\n",
       "      <td>563.573932</td>\n",
       "      <td>65130800</td>\n",
       "    </tr>\n",
       "    <tr>\n",
       "      <th>2025-05-09</th>\n",
       "      <td>562.676575</td>\n",
       "      <td>565.827233</td>\n",
       "      <td>561.101215</td>\n",
       "      <td>564.810221</td>\n",
       "      <td>37603400</td>\n",
       "    </tr>\n",
       "  </tbody>\n",
       "</table>\n",
       "</div>"
      ],
      "text/plain": [
       "                 Close        High         Low        Open    Volume\n",
       "Date                                                                \n",
       "2025-05-08  563.394470  568.628996  560.044388  563.573932  65130800\n",
       "2025-05-09  562.676575  565.827233  561.101215  564.810221  37603400"
      ]
     },
     "metadata": {},
     "output_type": "display_data"
    },
    {
     "data": {
      "text/html": [
       "<div>\n",
       "<style scoped>\n",
       "    .dataframe tbody tr th:only-of-type {\n",
       "        vertical-align: middle;\n",
       "    }\n",
       "\n",
       "    .dataframe tbody tr th {\n",
       "        vertical-align: top;\n",
       "    }\n",
       "\n",
       "    .dataframe thead th {\n",
       "        text-align: right;\n",
       "    }\n",
       "</style>\n",
       "<table border=\"1\" class=\"dataframe\">\n",
       "  <thead>\n",
       "    <tr style=\"text-align: right;\">\n",
       "      <th></th>\n",
       "      <th>Close</th>\n",
       "      <th>High</th>\n",
       "      <th>Low</th>\n",
       "      <th>Open</th>\n",
       "      <th>Volume</th>\n",
       "    </tr>\n",
       "    <tr>\n",
       "      <th>Date</th>\n",
       "      <th></th>\n",
       "      <th></th>\n",
       "      <th></th>\n",
       "      <th></th>\n",
       "      <th></th>\n",
       "    </tr>\n",
       "  </thead>\n",
       "  <tbody>\n",
       "    <tr>\n",
       "      <th>2025-07-01</th>\n",
       "      <td>617.650024</td>\n",
       "      <td>618.830017</td>\n",
       "      <td>615.520020</td>\n",
       "      <td>616.359985</td>\n",
       "      <td>70030100</td>\n",
       "    </tr>\n",
       "    <tr>\n",
       "      <th>2025-07-02</th>\n",
       "      <td>620.450012</td>\n",
       "      <td>620.489990</td>\n",
       "      <td>616.609985</td>\n",
       "      <td>617.239990</td>\n",
       "      <td>66510400</td>\n",
       "    </tr>\n",
       "  </tbody>\n",
       "</table>\n",
       "</div>"
      ],
      "text/plain": [
       "                 Close        High         Low        Open    Volume\n",
       "Date                                                                \n",
       "2025-07-01  617.650024  618.830017  615.520020  616.359985  70030100\n",
       "2025-07-02  620.450012  620.489990  616.609985  617.239990  66510400"
      ]
     },
     "metadata": {},
     "output_type": "display_data"
    }
   ],
   "source": [
    "data.columns = [col[0] for col in data.columns]\n",
    "display(data.shape)\n",
    "display(data.head(2))\n",
    "display(data.tail(2))"
   ]
  },
  {
   "cell_type": "code",
   "execution_count": 7,
   "id": "984a9cb1-7036-4b24-8ce7-ecfb1bde19cc",
   "metadata": {},
   "outputs": [
    {
     "data": {
      "text/html": [
       "<div>\n",
       "<style scoped>\n",
       "    .dataframe tbody tr th:only-of-type {\n",
       "        vertical-align: middle;\n",
       "    }\n",
       "\n",
       "    .dataframe tbody tr th {\n",
       "        vertical-align: top;\n",
       "    }\n",
       "\n",
       "    .dataframe thead th {\n",
       "        text-align: right;\n",
       "    }\n",
       "</style>\n",
       "<table border=\"1\" class=\"dataframe\">\n",
       "  <thead>\n",
       "    <tr style=\"text-align: right;\">\n",
       "      <th></th>\n",
       "      <th>Close</th>\n",
       "      <th>High</th>\n",
       "      <th>Low</th>\n",
       "      <th>Open</th>\n",
       "      <th>Volume</th>\n",
       "      <th>EMA_5</th>\n",
       "      <th>EMA_10</th>\n",
       "      <th>EMA_20</th>\n",
       "      <th>EMA_30</th>\n",
       "      <th>EMStrend</th>\n",
       "      <th>Labels</th>\n",
       "      <th>RisingStar</th>\n",
       "      <th>EveningStar</th>\n",
       "    </tr>\n",
       "    <tr>\n",
       "      <th>Date</th>\n",
       "      <th></th>\n",
       "      <th></th>\n",
       "      <th></th>\n",
       "      <th></th>\n",
       "      <th></th>\n",
       "      <th></th>\n",
       "      <th></th>\n",
       "      <th></th>\n",
       "      <th></th>\n",
       "      <th></th>\n",
       "      <th></th>\n",
       "      <th></th>\n",
       "      <th></th>\n",
       "    </tr>\n",
       "  </thead>\n",
       "  <tbody>\n",
       "    <tr>\n",
       "      <th>2025-05-08</th>\n",
       "      <td>563.394470</td>\n",
       "      <td>568.628996</td>\n",
       "      <td>560.044388</td>\n",
       "      <td>563.573932</td>\n",
       "      <td>65130800</td>\n",
       "      <td>563.394470</td>\n",
       "      <td>563.394470</td>\n",
       "      <td>563.394470</td>\n",
       "      <td>563.394470</td>\n",
       "      <td>None</td>\n",
       "      <td>None</td>\n",
       "      <td>NaN</td>\n",
       "      <td>NaN</td>\n",
       "    </tr>\n",
       "    <tr>\n",
       "      <th>2025-05-09</th>\n",
       "      <td>562.676575</td>\n",
       "      <td>565.827233</td>\n",
       "      <td>561.101215</td>\n",
       "      <td>564.810221</td>\n",
       "      <td>37603400</td>\n",
       "      <td>563.155172</td>\n",
       "      <td>563.263944</td>\n",
       "      <td>563.326099</td>\n",
       "      <td>563.348154</td>\n",
       "      <td>SIDEWAY</td>\n",
       "      <td>None</td>\n",
       "      <td>NaN</td>\n",
       "      <td>NaN</td>\n",
       "    </tr>\n",
       "    <tr>\n",
       "      <th>2025-05-12</th>\n",
       "      <td>581.271606</td>\n",
       "      <td>581.281587</td>\n",
       "      <td>575.339132</td>\n",
       "      <td>579.756067</td>\n",
       "      <td>78993600</td>\n",
       "      <td>569.193983</td>\n",
       "      <td>566.538064</td>\n",
       "      <td>565.035195</td>\n",
       "      <td>564.504506</td>\n",
       "      <td>DOWN</td>\n",
       "      <td>None</td>\n",
       "      <td>NaN</td>\n",
       "      <td>NaN</td>\n",
       "    </tr>\n",
       "    <tr>\n",
       "      <th>2025-05-13</th>\n",
       "      <td>585.110291</td>\n",
       "      <td>587.343678</td>\n",
       "      <td>581.122081</td>\n",
       "      <td>581.690347</td>\n",
       "      <td>67947200</td>\n",
       "      <td>574.499419</td>\n",
       "      <td>569.914833</td>\n",
       "      <td>566.947109</td>\n",
       "      <td>565.833912</td>\n",
       "      <td>UP</td>\n",
       "      <td>None</td>\n",
       "      <td>NaN</td>\n",
       "      <td>NaN</td>\n",
       "    </tr>\n",
       "    <tr>\n",
       "      <th>2025-05-14</th>\n",
       "      <td>585.858093</td>\n",
       "      <td>587.243950</td>\n",
       "      <td>583.814087</td>\n",
       "      <td>586.077416</td>\n",
       "      <td>66283500</td>\n",
       "      <td>578.285644</td>\n",
       "      <td>572.813607</td>\n",
       "      <td>568.748155</td>\n",
       "      <td>567.125794</td>\n",
       "      <td>UP</td>\n",
       "      <td>None</td>\n",
       "      <td>NaN</td>\n",
       "      <td>NaN</td>\n",
       "    </tr>\n",
       "  </tbody>\n",
       "</table>\n",
       "</div>"
      ],
      "text/plain": [
       "                 Close        High         Low        Open    Volume  \\\n",
       "Date                                                                   \n",
       "2025-05-08  563.394470  568.628996  560.044388  563.573932  65130800   \n",
       "2025-05-09  562.676575  565.827233  561.101215  564.810221  37603400   \n",
       "2025-05-12  581.271606  581.281587  575.339132  579.756067  78993600   \n",
       "2025-05-13  585.110291  587.343678  581.122081  581.690347  67947200   \n",
       "2025-05-14  585.858093  587.243950  583.814087  586.077416  66283500   \n",
       "\n",
       "                 EMA_5      EMA_10      EMA_20      EMA_30 EMStrend Labels  \\\n",
       "Date                                                                         \n",
       "2025-05-08  563.394470  563.394470  563.394470  563.394470     None   None   \n",
       "2025-05-09  563.155172  563.263944  563.326099  563.348154  SIDEWAY   None   \n",
       "2025-05-12  569.193983  566.538064  565.035195  564.504506     DOWN   None   \n",
       "2025-05-13  574.499419  569.914833  566.947109  565.833912       UP   None   \n",
       "2025-05-14  578.285644  572.813607  568.748155  567.125794       UP   None   \n",
       "\n",
       "            RisingStar  EveningStar  \n",
       "Date                                 \n",
       "2025-05-08         NaN          NaN  \n",
       "2025-05-09         NaN          NaN  \n",
       "2025-05-12         NaN          NaN  \n",
       "2025-05-13         NaN          NaN  \n",
       "2025-05-14         NaN          NaN  "
      ]
     },
     "execution_count": 7,
     "metadata": {},
     "output_type": "execute_result"
    }
   ],
   "source": [
    "# Calculate EMAs\n",
    "data = MA4.calculate_emas(data)\n",
    "data['EMStrend'] = None\n",
    "data['Labels'] = None\n",
    "data['RisingStar'] = None\n",
    "data['EveningStar'] = None\n",
    "# Convert to numeric type with np.nan for None\n",
    "data['RisingStar'] = pd.to_numeric(data['RisingStar'], errors='coerce')\n",
    "data['EveningStar'] = pd.to_numeric(data['EveningStar'], errors='coerce')\n",
    "data = MA4.calulate_Alltrend(data, 0, alpha) \n",
    "data.head()"
   ]
  },
  {
   "cell_type": "code",
   "execution_count": 8,
   "id": "7c5168d3-b9e6-446c-af7a-5646f1621e32",
   "metadata": {},
   "outputs": [
    {
     "name": "stdout",
     "output_type": "stream",
     "text": [
      "Rising Star markers: 0 non-NaN values\n",
      "Evening Star markers: 0 non-NaN values\n"
     ]
    },
    {
     "data": {
      "text/html": [
       "<div>\n",
       "<style scoped>\n",
       "    .dataframe tbody tr th:only-of-type {\n",
       "        vertical-align: middle;\n",
       "    }\n",
       "\n",
       "    .dataframe tbody tr th {\n",
       "        vertical-align: top;\n",
       "    }\n",
       "\n",
       "    .dataframe thead th {\n",
       "        text-align: right;\n",
       "    }\n",
       "</style>\n",
       "<table border=\"1\" class=\"dataframe\">\n",
       "  <thead>\n",
       "    <tr style=\"text-align: right;\">\n",
       "      <th></th>\n",
       "      <th>Close</th>\n",
       "      <th>High</th>\n",
       "      <th>Low</th>\n",
       "      <th>Open</th>\n",
       "      <th>Volume</th>\n",
       "      <th>EMA_5</th>\n",
       "      <th>EMA_10</th>\n",
       "      <th>EMA_20</th>\n",
       "      <th>EMA_30</th>\n",
       "      <th>EMStrend</th>\n",
       "      <th>Labels</th>\n",
       "      <th>RisingStar</th>\n",
       "      <th>EveningStar</th>\n",
       "    </tr>\n",
       "    <tr>\n",
       "      <th>Date</th>\n",
       "      <th></th>\n",
       "      <th></th>\n",
       "      <th></th>\n",
       "      <th></th>\n",
       "      <th></th>\n",
       "      <th></th>\n",
       "      <th></th>\n",
       "      <th></th>\n",
       "      <th></th>\n",
       "      <th></th>\n",
       "      <th></th>\n",
       "      <th></th>\n",
       "      <th></th>\n",
       "    </tr>\n",
       "  </thead>\n",
       "  <tbody>\n",
       "    <tr>\n",
       "      <th>2025-05-08</th>\n",
       "      <td>563.394470</td>\n",
       "      <td>568.628996</td>\n",
       "      <td>560.044388</td>\n",
       "      <td>563.573932</td>\n",
       "      <td>65130800</td>\n",
       "      <td>563.394470</td>\n",
       "      <td>563.394470</td>\n",
       "      <td>563.394470</td>\n",
       "      <td>563.394470</td>\n",
       "      <td>None</td>\n",
       "      <td>None</td>\n",
       "      <td>NaN</td>\n",
       "      <td>NaN</td>\n",
       "    </tr>\n",
       "    <tr>\n",
       "      <th>2025-05-09</th>\n",
       "      <td>562.676575</td>\n",
       "      <td>565.827233</td>\n",
       "      <td>561.101215</td>\n",
       "      <td>564.810221</td>\n",
       "      <td>37603400</td>\n",
       "      <td>563.155172</td>\n",
       "      <td>563.263944</td>\n",
       "      <td>563.326099</td>\n",
       "      <td>563.348154</td>\n",
       "      <td>SIDEWAY</td>\n",
       "      <td>None</td>\n",
       "      <td>NaN</td>\n",
       "      <td>NaN</td>\n",
       "    </tr>\n",
       "    <tr>\n",
       "      <th>2025-05-12</th>\n",
       "      <td>581.271606</td>\n",
       "      <td>581.281587</td>\n",
       "      <td>575.339132</td>\n",
       "      <td>579.756067</td>\n",
       "      <td>78993600</td>\n",
       "      <td>569.193983</td>\n",
       "      <td>566.538064</td>\n",
       "      <td>565.035195</td>\n",
       "      <td>564.504506</td>\n",
       "      <td>DOWN</td>\n",
       "      <td>None</td>\n",
       "      <td>NaN</td>\n",
       "      <td>NaN</td>\n",
       "    </tr>\n",
       "    <tr>\n",
       "      <th>2025-05-13</th>\n",
       "      <td>585.110291</td>\n",
       "      <td>587.343678</td>\n",
       "      <td>581.122081</td>\n",
       "      <td>581.690347</td>\n",
       "      <td>67947200</td>\n",
       "      <td>574.499419</td>\n",
       "      <td>569.914833</td>\n",
       "      <td>566.947109</td>\n",
       "      <td>565.833912</td>\n",
       "      <td>UP</td>\n",
       "      <td>None</td>\n",
       "      <td>NaN</td>\n",
       "      <td>NaN</td>\n",
       "    </tr>\n",
       "    <tr>\n",
       "      <th>2025-05-14</th>\n",
       "      <td>585.858093</td>\n",
       "      <td>587.243950</td>\n",
       "      <td>583.814087</td>\n",
       "      <td>586.077416</td>\n",
       "      <td>66283500</td>\n",
       "      <td>578.285644</td>\n",
       "      <td>572.813607</td>\n",
       "      <td>568.748155</td>\n",
       "      <td>567.125794</td>\n",
       "      <td>UP</td>\n",
       "      <td>None</td>\n",
       "      <td>NaN</td>\n",
       "      <td>NaN</td>\n",
       "    </tr>\n",
       "  </tbody>\n",
       "</table>\n",
       "</div>"
      ],
      "text/plain": [
       "                 Close        High         Low        Open    Volume  \\\n",
       "Date                                                                   \n",
       "2025-05-08  563.394470  568.628996  560.044388  563.573932  65130800   \n",
       "2025-05-09  562.676575  565.827233  561.101215  564.810221  37603400   \n",
       "2025-05-12  581.271606  581.281587  575.339132  579.756067  78993600   \n",
       "2025-05-13  585.110291  587.343678  581.122081  581.690347  67947200   \n",
       "2025-05-14  585.858093  587.243950  583.814087  586.077416  66283500   \n",
       "\n",
       "                 EMA_5      EMA_10      EMA_20      EMA_30 EMStrend Labels  \\\n",
       "Date                                                                         \n",
       "2025-05-08  563.394470  563.394470  563.394470  563.394470     None   None   \n",
       "2025-05-09  563.155172  563.263944  563.326099  563.348154  SIDEWAY   None   \n",
       "2025-05-12  569.193983  566.538064  565.035195  564.504506     DOWN   None   \n",
       "2025-05-13  574.499419  569.914833  566.947109  565.833912       UP   None   \n",
       "2025-05-14  578.285644  572.813607  568.748155  567.125794       UP   None   \n",
       "\n",
       "            RisingStar  EveningStar  \n",
       "Date                                 \n",
       "2025-05-08         NaN          NaN  \n",
       "2025-05-09         NaN          NaN  \n",
       "2025-05-12         NaN          NaN  \n",
       "2025-05-13         NaN          NaN  \n",
       "2025-05-14         NaN          NaN  "
      ]
     },
     "metadata": {},
     "output_type": "display_data"
    }
   ],
   "source": [
    "# find Rising Star and Evening Star patterns\n",
    "data = MA4.find_RE_star(data, 0, star_lbdays)\n",
    "display(data.head())"
   ]
  },
  {
   "cell_type": "code",
   "execution_count": 9,
   "id": "bdd24454-3014-41e6-be1b-5ecb41d65fc9",
   "metadata": {
    "scrolled": true
   },
   "outputs": [
    {
     "data": {
      "text/plain": [
       "38"
      ]
     },
     "metadata": {},
     "output_type": "display_data"
    },
    {
     "name": "stdout",
     "output_type": "stream",
     "text": [
      "2025-06-09 00:00:00  --  2025-07-02 00:00:00  length= 17\n",
      "charts/chart_SPY_20250609_20250702.png\n"
     ]
    }
   ],
   "source": [
    "display(len(data))\n",
    "chart_data = data.iloc[len(data)-window_days:]\n",
    "print(chart_data.index[0], \" -- \", chart_data.index[-1], ' length=', len(chart_data))\n",
    "# Detect Rising Star and Evening Star patterns\n",
    "rising_star_markers = chart_data['RisingStar']\n",
    "evening_star_markers = chart_data['EveningStar']\n",
    "# Build additional plots list, only include scatter plots if markers exist\n",
    "ap = [\n",
    "    mpf.make_addplot(chart_data['EMA_5'], color='red', width=1),\n",
    "    mpf.make_addplot(chart_data['EMA_10'], color='blue', width=1),\n",
    "    mpf.make_addplot(chart_data['EMA_20'], color='green', width=1),\n",
    "    mpf.make_addplot(chart_data['EMA_30'], color='yellow', width=1)\n",
    "]\n",
    "# Only add scatter plots if there are non-NaN markers\n",
    "if rising_star_markers.notna().any():\n",
    "    # Ensure the series contains only numeric or np.nan values\n",
    "    rising_star_markers = pd.to_numeric(rising_star_markers, errors='coerce')\n",
    "    print(f\"Adding Rising Star markers for window {i} is \")\n",
    "    ap.append(mpf.make_addplot(rising_star_markers, type='scatter', marker='^', color='cyan', markersize=100))\n",
    "if evening_star_markers.notna().any():\n",
    "    evening_star_markers = pd.to_numeric(evening_star_markers, errors='coerce')\n",
    "    print(f\"Adding Evening Star markers for window {i} is \")\n",
    "    ap.append(mpf.make_addplot(evening_star_markers, type='scatter', marker='v', color='magenta', markersize=100))\n",
    "start_d = chart_data.index[0].strftime('%Y%m%d')\n",
    "end_d = chart_data.index[-1].strftime('%Y%m%d')\n",
    "chart_path = os.path.join(\"charts\", f\"chart_{ticker}_{start_d}_{end_d}.png\")\n",
    "print(chart_path)\n",
    "try:\n",
    "    fig, ax = mpf.plot(chart_data, type='candle', addplot=ap, savefig=chart_path, warn_too_much_data=1000, returnfig=True)\n",
    "    plt.close(fig)  # Close the figure to free memory\n",
    "    plt.close('all')  # Close all figures to prevent memory accumulation\n",
    "except Exception as e:\n",
    "    print(f\"Error generating chart {chart_path}: {e}\")\n"
   ]
  },
  {
   "cell_type": "code",
   "execution_count": 10,
   "id": "6da7f7c3-69b9-4829-a9f3-d0e51016cbaf",
   "metadata": {},
   "outputs": [
    {
     "name": "stdout",
     "output_type": "stream",
     "text": [
      "(224, 224, 3)\n",
      "(1, 224, 224, 3)\n"
     ]
    }
   ],
   "source": [
    "img = MA4.preprocess_image(chart_path)\n",
    "print(img.shape)\n",
    "X_test = np.array([img])\n",
    "print(X_test.shape)"
   ]
  },
  {
   "cell_type": "code",
   "execution_count": 11,
   "id": "8c588733-9a7e-4fcd-900a-c785653d3262",
   "metadata": {},
   "outputs": [
    {
     "name": "stderr",
     "output_type": "stream",
     "text": [
      "WARNING: All log messages before absl::InitializeLog() is called are written to STDERR\n",
      "I0000 00:00:1752018378.340740     683 service.cc:146] XLA service 0x75cf00005210 initialized for platform CUDA (this does not guarantee that XLA will be used). Devices:\n",
      "I0000 00:00:1752018378.340761     683 service.cc:154]   StreamExecutor device (0): NVIDIA GeForce RTX 3090, Compute Capability 8.6\n",
      "2025-07-08 23:46:18.345080: I tensorflow/compiler/mlir/tensorflow/utils/dump_mlir_util.cc:268] disabling MLIR crash reproducer, set env var `MLIR_CRASH_REPRODUCER_DIRECTORY` to enable.\n",
      "2025-07-08 23:46:18.372879: I external/local_xla/xla/stream_executor/cuda/cuda_dnn.cc:531] Loaded cuDNN version 8906\n"
     ]
    },
    {
     "name": "stdout",
     "output_type": "stream",
     "text": [
      "\u001b[1m1/1\u001b[0m \u001b[32m━━━━━━━━━━━━━━━━━━━━\u001b[0m\u001b[37m\u001b[0m \u001b[1m0s\u001b[0m 356ms/step\n",
      "[[0.80551994 0.1883646  0.0061155 ]]\n",
      "[0]\n"
     ]
    },
    {
     "name": "stderr",
     "output_type": "stream",
     "text": [
      "I0000 00:00:1752018378.648915     683 device_compiler.h:188] Compiled cluster using XLA!  This line is logged at most once for the lifetime of the process.\n"
     ]
    }
   ],
   "source": [
    "y_pred = model.predict(X_test)\n",
    "print(y_pred)\n",
    "y_pred_classes = np.argmax(y_pred, axis=1)\n",
    "print(y_pred_classes)"
   ]
  },
  {
   "cell_type": "code",
   "execution_count": 12,
   "id": "351ee326-e42b-4a37-bd1d-3f3418790934",
   "metadata": {},
   "outputs": [
    {
     "name": "stdout",
     "output_type": "stream",
     "text": [
      "[0]\n",
      "UP\n"
     ]
    }
   ],
   "source": [
    "print(y_pred_classes)\n",
    "print(MA4.LABEL_L[y_pred_classes[0]])"
   ]
  },
  {
   "cell_type": "code",
   "execution_count": null,
   "id": "5d1a997b-631a-48f7-b9ed-b3596d75d1b6",
   "metadata": {},
   "outputs": [],
   "source": []
  }
 ],
 "metadata": {
  "kernelspec": {
   "display_name": "Python 3 (ipykernel)",
   "language": "python",
   "name": "python3"
  },
  "language_info": {
   "codemirror_mode": {
    "name": "ipython",
    "version": 3
   },
   "file_extension": ".py",
   "mimetype": "text/x-python",
   "name": "python",
   "nbconvert_exporter": "python",
   "pygments_lexer": "ipython3",
   "version": "3.11.0rc1"
  }
 },
 "nbformat": 4,
 "nbformat_minor": 5
}
