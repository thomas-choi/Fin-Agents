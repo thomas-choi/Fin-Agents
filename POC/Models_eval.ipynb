{
 "cells": [
  {
   "cell_type": "code",
   "execution_count": null,
   "id": "1520a990",
   "metadata": {},
   "outputs": [],
   "source": [
    "import MA4Star_Strategy as MA4\n",
    "import os\n",
    "import mplfinance as mpf\n",
    "import matplotlib.pyplot as plt"
   ]
  },
  {
   "cell_type": "code",
   "execution_count": null,
   "id": "9254139b",
   "metadata": {},
   "outputs": [],
   "source": [
    "ticker = \"QQQ\"\n",
    "window_days = 55\n",
    "alpha = 0.5\n",
    "star_lbdays=0\n",
    "predict_days=5\n",
    "data_label = MA4.data_label(ticker, window_days, alpha, predict_days, star_lbdays)\n",
    "print(data_label)"
   ]
  },
  {
   "cell_type": "code",
   "execution_count": null,
   "id": "ab3078f3",
   "metadata": {},
   "outputs": [],
   "source": [
    "batch_size = 32\n",
    "epochs = 30\n",
    "model_name = \"CNN\"\n",
    "# model_name = \"Dense\"\n",
    "model_label = MA4.model_label(data_label, model_name, epochs, batch_size)\n",
    "print(model_label)\n",
    "model = MA4.retreive_model(model_label)\n",
    "if model is not None:\n",
    "    model.summary()"
   ]
  },
  {
   "cell_type": "code",
   "execution_count": null,
   "id": "5bee8379",
   "metadata": {},
   "outputs": [],
   "source": [
    "import yfinance as yf\n",
    "import pandas as pd\n",
    "import numpy as np\n",
    "from datetime import date, timedelta, datetime"
   ]
  },
  {
   "cell_type": "code",
   "execution_count": null,
   "id": "8ff11a6d",
   "metadata": {},
   "outputs": [],
   "source": [
    "enddate = date(2025, 7, 3)\n",
    "enddate = \"2025-07-03\"\n",
    "startdate = date(2025, 1, 1)\n",
    "startdate = \"2025-01-01\"\n",
    "print(startdate, ' , ', enddate)"
   ]
  },
  {
   "cell_type": "code",
   "execution_count": null,
   "id": "ba5b1619",
   "metadata": {
    "scrolled": true
   },
   "outputs": [],
   "source": [
    "fulldata = MA4.download_setup_data(ticker=ticker, predict_days=predict_days, window_days=window_days, alpha=alpha, lback=star_lbdays, \n",
    "                               start_date=startdate, end_date=enddate)"
   ]
  },
  {
   "cell_type": "code",
   "execution_count": null,
   "id": "2db25705",
   "metadata": {
    "scrolled": true
   },
   "outputs": [],
   "source": [
    "validate_charts, validate_labels, finaldata = MA4.generate_chart(data=fulldata, ticker=ticker, predict_days=predict_days, \n",
    "                                                             window_days=window_days, datalabel_=data_label)"
   ]
  },
  {
   "cell_type": "code",
   "execution_count": null,
   "id": "37ae3a8c",
   "metadata": {},
   "outputs": [],
   "source": [
    "def model_predict( model, X_test):\n",
    "    y_pred = model.predict(X_test)\n",
    "    y_pred_classes = np.argmax(y_pred, axis=1)\n",
    "    return y_pred_classes"
   ]
  },
  {
   "cell_type": "code",
   "execution_count": null,
   "id": "242c1f7f",
   "metadata": {},
   "outputs": [],
   "source": [
    "def convert2Labels(y_pred_classes):\n",
    "    label_names=[]\n",
    "    for pclass in y_pred_classes:\n",
    "        label_names.append(MA4.LABEL_L[pclass])\n",
    "    print(len(label_names))\n",
    "    print(label_names)\n",
    "    return label_names"
   ]
  },
  {
   "cell_type": "code",
   "execution_count": null,
   "id": "e6666911",
   "metadata": {},
   "outputs": [],
   "source": [
    "validate_df = pd.DataFrame({\"chart_path\": validate_charts, \"label\": validate_labels})\n",
    "# display(validate_df)\n",
    "validate_fullp = os.path.join(\"validate_metadata\", f\"{model_label}_metadata.csv\")\n",
    "# print(validate_fullp)\n",
    "os.makedirs(os.path.dirname(validate_fullp), exist_ok=True)\n",
    "validate_df.to_csv(validate_fullp, index=False)\n",
    "\n",
    "# display(fulldata.head(30))\n",
    "df_filtered = finaldata.dropna(subset=['predict_date'])\n",
    "# display(df_filtered)\n",
    "\n",
    "validate_X, validate_Y = MA4.load_data(validate_fullp)\n",
    "print(validate_X.shape, \"  ,  \", validate_Y.shape)\n",
    "\n",
    "y_pred_classes = model_predict(model, validate_X)\n",
    "\n",
    "y_pred_labels = convert2Labels(y_pred_classes)\n",
    "\n",
    "df_filtered['pred_Labels'] = y_pred_labels\n",
    "\n",
    "start_d = df_filtered.index[0].strftime('%Y%m%d')\n",
    "end_d = df_filtered.index[0].strftime('%Y%m%d')\n",
    "result_fullp = os.path.join(\"validate_results\", f\"{model_label}_{start_d}_{end_d}.csv\")\n",
    "os.makedirs(os.path.dirname(result_fullp), exist_ok=True)\n",
    "df_filtered.to_csv(result_fullp, index=False)\n",
    "\n",
    "acc, prec, recall, f1 = MA4.cal_accuracy(ticker, validate_Y, y_pred_classes, model_name, model_label)\n",
    "print(acc, prec, recall, f1)"
   ]
  },
  {
   "cell_type": "code",
   "execution_count": null,
   "id": "c8e315e2",
   "metadata": {},
   "outputs": [],
   "source": []
  }
 ],
 "metadata": {
  "kernelspec": {
   "display_name": "Python 3 (ipykernel)",
   "language": "python",
   "name": "python3"
  },
  "language_info": {
   "codemirror_mode": {
    "name": "ipython",
    "version": 3
   },
   "file_extension": ".py",
   "mimetype": "text/x-python",
   "name": "python",
   "nbconvert_exporter": "python",
   "pygments_lexer": "ipython3",
   "version": "3.10.12"
  }
 },
 "nbformat": 4,
 "nbformat_minor": 5
}
