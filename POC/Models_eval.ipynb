{
 "cells": [
  {
   "cell_type": "code",
   "execution_count": null,
   "id": "4e3e3c3e-6562-4e82-ba41-0181a4ee467e",
   "metadata": {},
   "outputs": [],
   "source": [
    "import MA4Star_Strategy as MA4\n",
    "import os\n",
    "import mplfinance as mpf\n",
    "import matplotlib.pyplot as plt"
   ]
  },
  {
   "cell_type": "code",
   "execution_count": null,
   "id": "865719d1-cda7-45d0-bfe2-6072d47a78ee",
   "metadata": {},
   "outputs": [],
   "source": [
    "ticker = \"0005.HK\"\n",
    "window_days = 55\n",
    "alpha = 0.5\n",
    "star_lbdays=0\n",
    "predict_days=5\n",
    "data_label = MA4.data_label(ticker, window_days, alpha, predict_days, star_lbdays)\n",
    "print(data_label)"
   ]
  },
  {
   "cell_type": "code",
   "execution_count": null,
   "id": "d95a85f4-8360-421a-9da9-3899e2f7a4aa",
   "metadata": {
    "scrolled": true
   },
   "outputs": [],
   "source": [
    "batch_size = 32\n",
    "epochs = 30\n",
    "model_label = MA4.model_label(data_label, \"CNN\", epochs, batch_size)\n",
    "print(model_label)\n",
    "model = MA4.retreive_model(model_label)\n",
    "if model is not None:\n",
    "    model.summary()"
   ]
  },
  {
   "cell_type": "code",
   "execution_count": null,
   "id": "808749b7-daec-453c-acd1-b944b61fad39",
   "metadata": {},
   "outputs": [],
   "source": [
    "import yfinance as yf\n",
    "import pandas as pd\n",
    "import numpy as np\n",
    "from datetime import date, timedelta, datetime"
   ]
  },
  {
   "cell_type": "code",
   "execution_count": null,
   "id": "a0948ee4-417b-4c6c-9b88-7c6ed6ab958f",
   "metadata": {},
   "outputs": [],
   "source": [
    "period=f\"{window_days+1}d\"\n",
    "print(period)\n",
    "enddate = date(2025, 7, 3)\n",
    "startdate = enddate - timedelta(days=window_days+1)\n",
    "print(startdate, ' , ', enddate)\n",
    "data = yf.download(ticker, start=startdate, end=enddate, progress=False)"
   ]
  },
  {
   "cell_type": "code",
   "execution_count": null,
   "id": "9019ea7c-69ba-4cbb-bf89-4d2ae2f5f188",
   "metadata": {},
   "outputs": [],
   "source": [
    "data.columns = [col[0] for col in data.columns]\n",
    "display(data.shape)\n",
    "display(data.head(2))\n",
    "display(data.tail(2))"
   ]
  },
  {
   "cell_type": "code",
   "execution_count": null,
   "id": "984a9cb1-7036-4b24-8ce7-ecfb1bde19cc",
   "metadata": {},
   "outputs": [],
   "source": [
    "# Calculate EMAs\n",
    "data = MA4.calculate_emas(data)\n",
    "data['EMStrend'] = None\n",
    "data['Labels'] = None\n",
    "data['RisingStar'] = None\n",
    "data['EveningStar'] = None\n",
    "# Convert to numeric type with np.nan for None\n",
    "data['RisingStar'] = pd.to_numeric(data['RisingStar'], errors='coerce')\n",
    "data['EveningStar'] = pd.to_numeric(data['EveningStar'], errors='coerce')\n",
    "data = MA4.calulate_Alltrend(data, 0, alpha) \n",
    "data.head()"
   ]
  },
  {
   "cell_type": "code",
   "execution_count": null,
   "id": "7c5168d3-b9e6-446c-af7a-5646f1621e32",
   "metadata": {},
   "outputs": [],
   "source": [
    "# find Rising Star and Evening Star patterns\n",
    "data = MA4.find_RE_star(data, 0, star_lbdays)\n",
    "display(data.head())"
   ]
  },
  {
   "cell_type": "code",
   "execution_count": null,
   "id": "bdd24454-3014-41e6-be1b-5ecb41d65fc9",
   "metadata": {
    "scrolled": true
   },
   "outputs": [],
   "source": [
    "display(len(data))\n",
    "chart_data = data.iloc[len(data)-window_days:]\n",
    "print(chart_data.index[0], \" -- \", chart_data.index[-1], ' length=', len(chart_data))\n",
    "# Detect Rising Star and Evening Star patterns\n",
    "rising_star_markers = chart_data['RisingStar']\n",
    "evening_star_markers = chart_data['EveningStar']\n",
    "# Build additional plots list, only include scatter plots if markers exist\n",
    "ap = [\n",
    "    mpf.make_addplot(chart_data['EMA_5'], color='red', width=1),\n",
    "    mpf.make_addplot(chart_data['EMA_10'], color='blue', width=1),\n",
    "    mpf.make_addplot(chart_data['EMA_20'], color='green', width=1),\n",
    "    mpf.make_addplot(chart_data['EMA_30'], color='yellow', width=1)\n",
    "]\n",
    "# Only add scatter plots if there are non-NaN markers\n",
    "if rising_star_markers.notna().any():\n",
    "    # Ensure the series contains only numeric or np.nan values\n",
    "    rising_star_markers = pd.to_numeric(rising_star_markers, errors='coerce')\n",
    "    print(f\"Adding Rising Star markers for window {i} is \")\n",
    "    ap.append(mpf.make_addplot(rising_star_markers, type='scatter', marker='^', color='cyan', markersize=100))\n",
    "if evening_star_markers.notna().any():\n",
    "    evening_star_markers = pd.to_numeric(evening_star_markers, errors='coerce')\n",
    "    print(f\"Adding Evening Star markers for window {i} is \")\n",
    "    ap.append(mpf.make_addplot(evening_star_markers, type='scatter', marker='v', color='magenta', markersize=100))\n",
    "start_d = chart_data.index[0].strftime('%Y%m%d')\n",
    "end_d = chart_data.index[-1].strftime('%Y%m%d')\n",
    "chart_path = os.path.join(\"charts\", f\"chart_{ticker}_{start_d}_{end_d}.png\")\n",
    "print(chart_path)\n",
    "try:\n",
    "    fig, ax = mpf.plot(chart_data, type='candle', addplot=ap, savefig=chart_path, warn_too_much_data=1000, returnfig=True)\n",
    "    plt.close(fig)  # Close the figure to free memory\n",
    "    plt.close('all')  # Close all figures to prevent memory accumulation\n",
    "except Exception as e:\n",
    "    print(f\"Error generating chart {chart_path}: {e}\")\n"
   ]
  },
  {
   "cell_type": "code",
   "execution_count": null,
   "id": "6da7f7c3-69b9-4829-a9f3-d0e51016cbaf",
   "metadata": {},
   "outputs": [],
   "source": [
    "img = MA4.preprocess_image(chart_path)\n",
    "print(img.shape)\n",
    "X_test = np.array([img])\n",
    "print(X_test.shape)"
   ]
  },
  {
   "cell_type": "code",
   "execution_count": null,
   "id": "8c588733-9a7e-4fcd-900a-c785653d3262",
   "metadata": {},
   "outputs": [],
   "source": [
    "y_pred = model.predict(X_test)\n",
    "print(y_pred)\n",
    "y_pred_classes = np.argmax(y_pred, axis=1)\n",
    "print(y_pred_classes)"
   ]
  },
  {
   "cell_type": "code",
   "execution_count": null,
   "id": "351ee326-e42b-4a37-bd1d-3f3418790934",
   "metadata": {},
   "outputs": [],
   "source": [
    "print(y_pred_classes)\n",
    "print(MA4.LABEL_L[y_pred_classes[0]])"
   ]
  },
  {
   "cell_type": "code",
   "execution_count": null,
   "id": "5d1a997b-631a-48f7-b9ed-b3596d75d1b6",
   "metadata": {},
   "outputs": [],
   "source": []
  }
 ],
 "metadata": {
  "kernelspec": {
   "display_name": "Python 3 (ipykernel)",
   "language": "python",
   "name": "python3"
  },
  "language_info": {
   "codemirror_mode": {
    "name": "ipython",
    "version": 3
   },
   "file_extension": ".py",
   "mimetype": "text/x-python",
   "name": "python",
   "nbconvert_exporter": "python",
   "pygments_lexer": "ipython3",
   "version": "3.10.12"
  }
 },
 "nbformat": 4,
 "nbformat_minor": 5
}
