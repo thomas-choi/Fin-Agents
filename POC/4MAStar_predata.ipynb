{
 "cells": [
  {
   "cell_type": "code",
   "execution_count": null,
   "id": "5d635aab-bb2c-4a30-8e91-893f9d6066bc",
   "metadata": {},
   "outputs": [],
   "source": [
    "import MA4Star_Strategy as MA4\n",
    "import pandas as pd\n",
    "import time"
   ]
  },
  {
   "cell_type": "code",
   "execution_count": null,
   "id": "125d59c4-ff2d-4de7-a859-85398e8720c4",
   "metadata": {},
   "outputs": [],
   "source": [
    "his_tickers = pd.read_csv(\"hsi_components.csv\")"
   ]
  },
  {
   "cell_type": "code",
   "execution_count": null,
   "id": "7bb758a4-c09b-4b6a-be7f-7c8d7beaa439",
   "metadata": {},
   "outputs": [],
   "source": [
    "tickers = his_tickers.Symbol.to_list()\n",
    "print(tickers)"
   ]
  },
  {
   "cell_type": "code",
   "execution_count": null,
   "id": "6dc8fa5f-397a-4750-9fca-e64eda223217",
   "metadata": {},
   "outputs": [],
   "source": [
    "win_days_l = [30, 55]\n",
    "alpha_l = [0.4, 0.5, 0.6]\n",
    "epochs_l = [30]\n",
    "predict_days_l = [2, 5]\n",
    "lookback_l = [0, 2, 4]\n",
    "batch_size_l = [32]   \n",
    "\n",
    "milliseconds_to_sleep = 50\n",
    "seconds_to_sleep = milliseconds_to_sleep / 1000  # Convert milliseconds to seconds\n"
   ]
  },
  {
   "cell_type": "code",
   "execution_count": null,
   "id": "5f0d2917-313a-42c0-afa4-9e89ae868cce",
   "metadata": {
    "scrolled": true
   },
   "outputs": [],
   "source": [
    "for ticker in tickers:\n",
    "    for window_days in win_days_l:\n",
    "        for alpha in alpha_l:\n",
    "            for epochs in epochs_l:\n",
    "                for predict_days in predict_days_l:\n",
    "                    for lookback in lookback_l:\n",
    "                        for batch_size in lookback_l:\n",
    "                            print(ticker, window_days, alpha, epochs, predict_days, batch_size, None, lookback)\n",
    "                            result_df, fulldata  = MA4.prepare_data(ticker, window_days, alpha, epochs, predict_days, batch_size, None, lookback)                            \n",
    "                            time.sleep(seconds_to_sleep) "
   ]
  },
  {
   "cell_type": "code",
   "execution_count": null,
   "id": "77b9a67f-7978-43d6-930c-05ce58262713",
   "metadata": {},
   "outputs": [],
   "source": []
  }
 ],
 "metadata": {
  "kernelspec": {
   "display_name": "Python 3 (ipykernel)",
   "language": "python",
   "name": "python3"
  },
  "language_info": {
   "codemirror_mode": {
    "name": "ipython",
    "version": 3
   },
   "file_extension": ".py",
   "mimetype": "text/x-python",
   "name": "python",
   "nbconvert_exporter": "python",
   "pygments_lexer": "ipython3",
   "version": "3.10.12"
  }
 },
 "nbformat": 4,
 "nbformat_minor": 5
}
